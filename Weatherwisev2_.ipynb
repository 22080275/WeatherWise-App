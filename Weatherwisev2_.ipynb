{
  "nbformat": 4,
  "nbformat_minor": 0,
  "metadata": {
    "colab": {
      "provenance": [],
      "authorship_tag": "ABX9TyOOp69moGF95MW1hEDvKfF+",
      "include_colab_link": true
    },
    "kernelspec": {
      "name": "python3",
      "display_name": "Python 3"
    },
    "language_info": {
      "name": "python"
    }
  },
  "cells": [
    {
      "cell_type": "markdown",
      "metadata": {
        "id": "view-in-github",
        "colab_type": "text"
      },
      "source": [
        "<a href=\"https://colab.research.google.com/github/22080275/WeatherWise-App/blob/main/Weatherwisev2_.ipynb\" target=\"_parent\"><img src=\"https://colab.research.google.com/assets/colab-badge.svg\" alt=\"Open In Colab\"/></a>"
      ]
    },
    {
      "cell_type": "markdown",
      "source": [
        "## 📦 Setup and Configuration"
      ],
      "metadata": {
        "id": "qZcNjHNVrDgG"
      }
    },
    {
      "cell_type": "code",
      "execution_count": null,
      "metadata": {
        "id": "P0y_UPA8Oz-i"
      },
      "outputs": [],
      "source": []
    },
    {
      "cell_type": "markdown",
      "source": [
        "## 📦 Setup and Configuration"
      ],
      "metadata": {
        "id": "A1DtRx-QRTBZ"
      }
    },
    {
      "cell_type": "code",
      "source": [
        "# Install required package in Google Colab\n",
        "!pip install fetch-my-weather"
      ],
      "metadata": {
        "colab": {
          "base_uri": "https://localhost:8080/"
        },
        "outputId": "a23861ff-386e-492a-ae5b-717e0f5d7537",
        "id": "hxTKb36wRTBa"
      },
      "execution_count": null,
      "outputs": [
        {
          "output_type": "stream",
          "name": "stdout",
          "text": [
            "Collecting fetch-my-weather\n",
            "  Downloading fetch_my_weather-0.4.0-py3-none-any.whl.metadata (12 kB)\n",
            "Requirement already satisfied: requests>=2.25.0 in /usr/local/lib/python3.11/dist-packages (from fetch-my-weather) (2.32.3)\n",
            "Requirement already satisfied: pydantic>=1.8.0 in /usr/local/lib/python3.11/dist-packages (from fetch-my-weather) (2.11.4)\n",
            "Requirement already satisfied: annotated-types>=0.6.0 in /usr/local/lib/python3.11/dist-packages (from pydantic>=1.8.0->fetch-my-weather) (0.7.0)\n",
            "Requirement already satisfied: pydantic-core==2.33.2 in /usr/local/lib/python3.11/dist-packages (from pydantic>=1.8.0->fetch-my-weather) (2.33.2)\n",
            "Requirement already satisfied: typing-extensions>=4.12.2 in /usr/local/lib/python3.11/dist-packages (from pydantic>=1.8.0->fetch-my-weather) (4.13.2)\n",
            "Requirement already satisfied: typing-inspection>=0.4.0 in /usr/local/lib/python3.11/dist-packages (from pydantic>=1.8.0->fetch-my-weather) (0.4.0)\n",
            "Requirement already satisfied: charset-normalizer<4,>=2 in /usr/local/lib/python3.11/dist-packages (from requests>=2.25.0->fetch-my-weather) (3.4.2)\n",
            "Requirement already satisfied: idna<4,>=2.5 in /usr/local/lib/python3.11/dist-packages (from requests>=2.25.0->fetch-my-weather) (3.10)\n",
            "Requirement already satisfied: urllib3<3,>=1.21.1 in /usr/local/lib/python3.11/dist-packages (from requests>=2.25.0->fetch-my-weather) (2.4.0)\n",
            "Requirement already satisfied: certifi>=2017.4.17 in /usr/local/lib/python3.11/dist-packages (from requests>=2.25.0->fetch-my-weather) (2025.4.26)\n",
            "Downloading fetch_my_weather-0.4.0-py3-none-any.whl (17 kB)\n",
            "Installing collected packages: fetch-my-weather\n",
            "Successfully installed fetch-my-weather-0.4.0\n"
          ]
        }
      ]
    },
    {
      "cell_type": "code",
      "source": [
        "# Import the fetch_my_weather package which provides a simple interface to fetch weather data\n",
        "import fetch_my_weather\n",
        "\n",
        "# Set the cache duration to 1800 seconds (30 minutes) to reduce unnecessary API calls\n",
        "# This helps improve performance and reduce rate-limiting issues with the weather service\n",
        "fetch_my_weather.set_cache_duration(1800)\n",
        "\n"
      ],
      "metadata": {
        "colab": {
          "base_uri": "https://localhost:8080/"
        },
        "outputId": "105267ca-1c3a-4b01-884f-e6a036ff7ef7",
        "id": "rnCCP6PqRTBb"
      },
      "execution_count": null,
      "outputs": [
        {
          "output_type": "execute_result",
          "data": {
            "text/plain": [
              "1800"
            ]
          },
          "metadata": {},
          "execution_count": 2
        }
      ]
    },
    {
      "cell_type": "code",
      "source": [
        "# Import the get_weather function from the fetch_my_weather package\n",
        "from fetch_my_weather import get_weather\n",
        "\n",
        "# First call to get_weather for the location \"Perth\"\n",
        "# The 'with_metadata=True' flag allows us to access response metadata such as cache status\n",
        "response1 = get_weather(\"Perth\", with_metadata=True)\n",
        "\n",
        "# Print whether the first response was served from cache\n",
        "# On the first call, this should typically be False unless it was previously cached\n",
        "print(\"🔁 First call - Cached?\", response1.metadata.is_cached)\n",
        "\n",
        "# Second call to the same location immediately after the first\n",
        "# Since we have a 30-minute cache window, this should now return cached data\n",
        "response2 = get_weather(\"Perth\", with_metadata=True)\n",
        "\n",
        "# Print whether the second response was served from cache\n",
        "# This should now print True, indicating the response came from the cache\n",
        "print(\"🔁 Second call - Cached?\", response2.metadata.is_cached)\n",
        "\n"
      ],
      "metadata": {
        "colab": {
          "base_uri": "https://localhost:8080/"
        },
        "outputId": "b2a0052b-fc32-4b2d-9b92-0da4c409067e",
        "id": "cV1D2-4sRTBc"
      },
      "execution_count": null,
      "outputs": [
        {
          "output_type": "stream",
          "name": "stdout",
          "text": [
            "🔁 First call - Cached? False\n",
            "🔁 Second call - Cached? False\n"
          ]
        }
      ]
    },
    {
      "cell_type": "code",
      "source": [
        "# Required for all visualisation plotting\n",
        "import matplotlib.pyplot as plt\n"
      ],
      "metadata": {
        "id": "hBoT1hO9RTBc"
      },
      "execution_count": null,
      "outputs": []
    },
    {
      "cell_type": "code",
      "source": [
        "# Used for parsing user weather questions using regular expressions\n",
        "import re"
      ],
      "metadata": {
        "id": "BRGsvjwGRTBd"
      },
      "execution_count": null,
      "outputs": []
    },
    {
      "cell_type": "code",
      "source": [
        "# Used for basic string similarity (fallback if fuzzy matching is needed)\n",
        "import difflib"
      ],
      "metadata": {
        "id": "1vyTppiSRTBd"
      },
      "execution_count": null,
      "outputs": []
    },
    {
      "cell_type": "code",
      "source": [
        "# 📦 Install the RapidFuzz library (for fuzzy location matching and typo correction)\n",
        "# This helps suggest likely intended cities when the user enters an invalid location\n",
        "!pip install rapidfuzz"
      ],
      "metadata": {
        "colab": {
          "base_uri": "https://localhost:8080/"
        },
        "outputId": "221f6c2a-ecc7-4ff0-ac3d-133cb5624660",
        "collapsed": true,
        "id": "DB-jPkq4RTBd"
      },
      "execution_count": null,
      "outputs": [
        {
          "output_type": "stream",
          "name": "stdout",
          "text": [
            "Collecting rapidfuzz\n",
            "  Downloading rapidfuzz-3.13.0-cp311-cp311-manylinux_2_17_x86_64.manylinux2014_x86_64.whl.metadata (12 kB)\n",
            "Downloading rapidfuzz-3.13.0-cp311-cp311-manylinux_2_17_x86_64.manylinux2014_x86_64.whl (3.1 MB)\n",
            "\u001b[2K   \u001b[90m━━━━━━━━━━━━━━━━━━━━━━━━━━━━━━━━━━━━━━━━\u001b[0m \u001b[32m3.1/3.1 MB\u001b[0m \u001b[31m23.6 MB/s\u001b[0m eta \u001b[36m0:00:00\u001b[0m\n",
            "\u001b[?25hInstalling collected packages: rapidfuzz\n",
            "Successfully installed rapidfuzz-3.13.0\n"
          ]
        }
      ]
    },
    {
      "cell_type": "code",
      "source": [
        "# 📦 Install PyInputPlus (used for input validation in the console UI)\n",
        "# Helps ensure users provide valid, expected menu and text inputs\n",
        "!pip install pyinputplus"
      ],
      "metadata": {
        "colab": {
          "base_uri": "https://localhost:8080/"
        },
        "outputId": "ac4a824b-ddcd-4246-8892-e2ac4adbf8bb",
        "id": "96sntNA7RTBd"
      },
      "execution_count": null,
      "outputs": [
        {
          "output_type": "stream",
          "name": "stdout",
          "text": [
            "Collecting pyinputplus\n",
            "  Downloading PyInputPlus-0.2.12.tar.gz (20 kB)\n",
            "  Installing build dependencies ... \u001b[?25l\u001b[?25hdone\n",
            "  Getting requirements to build wheel ... \u001b[?25l\u001b[?25hdone\n",
            "  Preparing metadata (pyproject.toml) ... \u001b[?25l\u001b[?25hdone\n",
            "Collecting pysimplevalidate>=0.2.7 (from pyinputplus)\n",
            "  Downloading PySimpleValidate-0.2.12.tar.gz (22 kB)\n",
            "  Installing build dependencies ... \u001b[?25l\u001b[?25hdone\n",
            "  Getting requirements to build wheel ... \u001b[?25l\u001b[?25hdone\n",
            "  Preparing metadata (pyproject.toml) ... \u001b[?25l\u001b[?25hdone\n",
            "Collecting stdiomask>=0.0.3 (from pyinputplus)\n",
            "  Downloading stdiomask-0.0.6.tar.gz (3.6 kB)\n",
            "  Installing build dependencies ... \u001b[?25l\u001b[?25hdone\n",
            "  Getting requirements to build wheel ... \u001b[?25l\u001b[?25hdone\n",
            "  Preparing metadata (pyproject.toml) ... \u001b[?25l\u001b[?25hdone\n",
            "Building wheels for collected packages: pyinputplus, pysimplevalidate, stdiomask\n",
            "  Building wheel for pyinputplus (pyproject.toml) ... \u001b[?25l\u001b[?25hdone\n",
            "  Created wheel for pyinputplus: filename=pyinputplus-0.2.12-py3-none-any.whl size=11348 sha256=49bb4f4f961553d688ed1396e41fec816faa592659c8fb67338d9891dab5eb56\n",
            "  Stored in directory: /root/.cache/pip/wheels/a3/6b/89/3bec14288af8e0729d088fb41a785e583d49e772f2529c7676\n",
            "  Building wheel for pysimplevalidate (pyproject.toml) ... \u001b[?25l\u001b[?25hdone\n",
            "  Created wheel for pysimplevalidate: filename=pysimplevalidate-0.2.12-py3-none-any.whl size=16226 sha256=2d5a054581393ee4f670484fffc91656e1443246ebb696664a4ac7c16d0c7398\n",
            "  Stored in directory: /root/.cache/pip/wheels/fc/40/7a/4d3b2dc2e80b4b3bbda89eec94fcefd6c8bd1101cc7bb89554\n",
            "  Building wheel for stdiomask (pyproject.toml) ... \u001b[?25l\u001b[?25hdone\n",
            "  Created wheel for stdiomask: filename=stdiomask-0.0.6-py3-none-any.whl size=3356 sha256=0459f8d472dd6cb3e1f689ff7f1052fc90f82f3683b7fc885a3c4af7723fc119\n",
            "  Stored in directory: /root/.cache/pip/wheels/19/0c/90/5ee0da7cf06ff7e233f273063797785d5eabf0ab9f04220866\n",
            "Successfully built pyinputplus pysimplevalidate stdiomask\n",
            "Installing collected packages: stdiomask, pysimplevalidate, pyinputplus\n",
            "Successfully installed pyinputplus-0.2.12 pysimplevalidate-0.2.12 stdiomask-0.0.6\n"
          ]
        }
      ]
    },
    {
      "cell_type": "code",
      "source": [
        "from IPython.display import clear_output  # Used to clean the screen between menu iterations\n",
        "import time\n",
        "import pyinputplus as pyip  # Provides validated input handling"
      ],
      "metadata": {
        "id": "AoGjnYzdRTBe"
      },
      "execution_count": null,
      "outputs": []
    },
    {
      "cell_type": "code",
      "source": [],
      "metadata": {
        "id": "xD6VMWcXPVxK"
      },
      "execution_count": null,
      "outputs": []
    },
    {
      "cell_type": "markdown",
      "source": [
        "## 🌤️ Weather Data Functions\n",
        "This section contains the get_weather_data() function, which fetches weather data from the fetch-my-weather package.\n"
      ],
      "metadata": {
        "id": "y3ELk2Ln7J2s"
      }
    },
    {
      "cell_type": "code",
      "execution_count": null,
      "metadata": {
        "id": "43V7IZw_2rFi"
      },
      "outputs": [],
      "source": [
        "# Import the get_weather function from the fetch_my_weather package\n",
        "from fetch_my_weather import get_weather\n",
        "\n",
        "def get_weather_data(location, forecast_days=3, use_mock=False):\n",
        "    \"\"\"\n",
        "    Retrieve weather data for a specified location using fetch-my-weather.\n",
        "\n",
        "    Args:\n",
        "        location (str): City or location name\n",
        "        forecast_days (int): Number of forecast days to retrieve (1–5 recommended)\n",
        "        use_mock (bool): If True, fetches mock weather data for testing\n",
        "\n",
        "    Returns:\n",
        "        object: WeatherResponse Pydantic model if successful, None if an error occurs\n",
        "    \"\"\"\n",
        "    try:\n",
        "        # Call the fetch-my-weather API with appropriate parameters\n",
        "        response = get_weather(\n",
        "            location=location,  # The location provided by the user\n",
        "            view_options=str(forecast_days - 1),  # API uses \"0\" for today, \"1\" for today + tomorrow, etc.\n",
        "            units=\"m\",  # Use metric system (Celsius, km/h)\n",
        "            format=\"json\",  # Return a structured Pydantic object\n",
        "            with_metadata=True,  # Include metadata to check for errors or mock mode\n",
        "            use_mock=use_mock  # Use mock data if enabled (for testing or rate-limited situations)\n",
        "        )\n",
        "\n",
        "        # Check if the response metadata indicates an error occurred\n",
        "        if hasattr(response, \"metadata\") and response.metadata.error_type:\n",
        "            print(f\"❌ Error occurred: {response.metadata.error_message}\")\n",
        "            return None  # Exit early if there was an error\n",
        "\n",
        "        # Warn the user if the returned data is mock rather than real API data\n",
        "        if response.metadata.is_mock:\n",
        "            print(\"⚠️ Using mock data — results may not reflect real weather conditions.\")\n",
        "\n",
        "        # Return only the actual weather data (not metadata)\n",
        "        return response.data\n",
        "\n",
        "    except Exception as e:\n",
        "        # Catch any unexpected exceptions and print an error message\n",
        "        print(f\"❌ Unexpected error while fetching weather: {e}\")\n",
        "        return None  # Return None if the fetch operation fails\n",
        "def get_validated_weather_data(original_location, forecast_days=3, use_mock=False):\n",
        "    \"\"\"\n",
        "    Attempts to retrieve weather data. If it fails, suggests a similar known city using rapidfuzz.\n",
        "\n",
        "    Args:\n",
        "        original_location (str): User-provided location (may be misspelled)\n",
        "        forecast_days (int): Number of forecast days\n",
        "        use_mock (bool): Whether to use mock data\n",
        "\n",
        "    Returns:\n",
        "        WeatherResponse or None\n",
        "    \"\"\"\n",
        "    from rapidfuzz import process\n",
        "\n",
        "    # List of known cities for fuzzy matching\n",
        "    known_cities = [\"Perth\", \"Melbourne\", \"Sydney\", \"Brisbane\", \"Adelaide\", \"Darwin\",\n",
        "                    \"Hobart\", \"Canberra\", \"Gold Coast\", \"Newcastle\", \"Geelong\", \"Townsville\",\n",
        "                    \"Cairns\", \"Toowoomba\", \"Ballarat\", \"Bendigo\", \"Wollongong\", \"Fremantle\",\n",
        "                    \"Kalgoorlie\", \"Bunbury\", \"Launceston\"]\n",
        "\n",
        "    location = original_location.strip()\n",
        "\n",
        "    # Try to fetch weather for the provided location\n",
        "    data = get_weather_data(location, forecast_days=forecast_days, use_mock=use_mock)\n",
        "\n",
        "    if data:\n",
        "        # ✅ Success — show corrected location if fuzzy matched\n",
        "        if location.lower() != original_location.lower():\n",
        "            print(f\"📍 Displaying results for: {location.title()}\")\n",
        "        return data\n",
        "\n",
        "    # ❌ Failed — fuzzy match a better name\n",
        "    print(f\"⚠️ Couldn't retrieve weather for '{original_location}'.\")\n",
        "    suggestion, score, _ = process.extractOne(original_location, known_cities)\n",
        "\n",
        "    if score >= 70:\n",
        "        retry = pyip.inputYesNo(f\"Did you mean '{suggestion}'? (yes/no): \")\n",
        "        if retry == \"yes\":\n",
        "            data = get_weather_data(suggestion, forecast_days=forecast_days, use_mock=use_mock)\n",
        "            if data:\n",
        "                print(f\"📍 Displaying results for: {suggestion}\")\n",
        "                return data\n",
        "\n",
        "    # Otherwise, let them try again manually\n",
        "    retry = pyip.inputYesNo(\"Would you like to try entering another location? (yes/no): \")\n",
        "    if retry == \"yes\":\n",
        "        new_loc = pyip.inputStr(\"Enter a new location: \")\n",
        "        return get_validated_weather_data(new_loc, forecast_days=forecast_days, use_mock=use_mock)\n",
        "\n",
        "    return None\n"
      ]
    },
    {
      "cell_type": "code",
      "source": [
        "# 🔧 Test function to ensure get_weather_data() works correctly\n",
        "\n",
        "# Call the weather data function for \"Perth\" with 3 forecast days\n",
        "# `use_mock=True` enables mock mode, which avoids hitting the real API and is safe for repeated testing\n",
        "data = get_weather_data(\"Perth\", forecast_days=3, use_mock=True)\n",
        "\n",
        "# ✅ Check if data was successfully returned before accessing its fields\n",
        "if data:\n",
        "    # Access the first item in the current_condition list (today's data)\n",
        "    current = data.current_condition[0]\n",
        "\n",
        "    # Display the current temperature in Celsius\n",
        "    print(f\"Temp: {current.temp_C}°C\")\n",
        "\n",
        "    # Display the text description of the current weather condition\n",
        "    print(f\"Condition: {current.weatherDesc[0].value}\")\n",
        "else:\n",
        "    # Handle case where data retrieval failed or returned None\n",
        "    print(\"No data returned.\")\n"
      ],
      "metadata": {
        "colab": {
          "base_uri": "https://localhost:8080/"
        },
        "id": "lyrUunuY33g_",
        "outputId": "72d72be9-700d-44b2-f11e-2468903ae199"
      },
      "execution_count": null,
      "outputs": [
        {
          "output_type": "stream",
          "name": "stdout",
          "text": [
            "⚠️ Using mock data — results may not reflect real weather conditions.\n",
            "Temp: 17°C\n",
            "Condition: Partly cloudy\n"
          ]
        }
      ]
    },
    {
      "cell_type": "code",
      "source": [
        "# Install required package in Google Colab\n",
        "!pip install fetch-my-weather"
      ],
      "metadata": {
        "id": "fsJSVBuu3ECV",
        "colab": {
          "base_uri": "https://localhost:8080/"
        },
        "outputId": "a23861ff-386e-492a-ae5b-717e0f5d7537"
      },
      "execution_count": null,
      "outputs": [
        {
          "output_type": "stream",
          "name": "stdout",
          "text": [
            "Collecting fetch-my-weather\n",
            "  Downloading fetch_my_weather-0.4.0-py3-none-any.whl.metadata (12 kB)\n",
            "Requirement already satisfied: requests>=2.25.0 in /usr/local/lib/python3.11/dist-packages (from fetch-my-weather) (2.32.3)\n",
            "Requirement already satisfied: pydantic>=1.8.0 in /usr/local/lib/python3.11/dist-packages (from fetch-my-weather) (2.11.4)\n",
            "Requirement already satisfied: annotated-types>=0.6.0 in /usr/local/lib/python3.11/dist-packages (from pydantic>=1.8.0->fetch-my-weather) (0.7.0)\n",
            "Requirement already satisfied: pydantic-core==2.33.2 in /usr/local/lib/python3.11/dist-packages (from pydantic>=1.8.0->fetch-my-weather) (2.33.2)\n",
            "Requirement already satisfied: typing-extensions>=4.12.2 in /usr/local/lib/python3.11/dist-packages (from pydantic>=1.8.0->fetch-my-weather) (4.13.2)\n",
            "Requirement already satisfied: typing-inspection>=0.4.0 in /usr/local/lib/python3.11/dist-packages (from pydantic>=1.8.0->fetch-my-weather) (0.4.0)\n",
            "Requirement already satisfied: charset-normalizer<4,>=2 in /usr/local/lib/python3.11/dist-packages (from requests>=2.25.0->fetch-my-weather) (3.4.2)\n",
            "Requirement already satisfied: idna<4,>=2.5 in /usr/local/lib/python3.11/dist-packages (from requests>=2.25.0->fetch-my-weather) (3.10)\n",
            "Requirement already satisfied: urllib3<3,>=1.21.1 in /usr/local/lib/python3.11/dist-packages (from requests>=2.25.0->fetch-my-weather) (2.4.0)\n",
            "Requirement already satisfied: certifi>=2017.4.17 in /usr/local/lib/python3.11/dist-packages (from requests>=2.25.0->fetch-my-weather) (2025.4.26)\n",
            "Downloading fetch_my_weather-0.4.0-py3-none-any.whl (17 kB)\n",
            "Installing collected packages: fetch-my-weather\n",
            "Successfully installed fetch-my-weather-0.4.0\n"
          ]
        }
      ]
    },
    {
      "cell_type": "code",
      "source": [
        "# Import the fetch_my_weather package which provides a simple interface to fetch weather data\n",
        "import fetch_my_weather\n",
        "\n",
        "# Set the cache duration to 1800 seconds (30 minutes) to reduce unnecessary API calls\n",
        "# This helps improve performance and reduce rate-limiting issues with the weather service\n",
        "fetch_my_weather.set_cache_duration(1800)\n",
        "\n"
      ],
      "metadata": {
        "colab": {
          "base_uri": "https://localhost:8080/"
        },
        "id": "u_lHcNJVf05W",
        "outputId": "105267ca-1c3a-4b01-884f-e6a036ff7ef7"
      },
      "execution_count": null,
      "outputs": [
        {
          "output_type": "execute_result",
          "data": {
            "text/plain": [
              "1800"
            ]
          },
          "metadata": {},
          "execution_count": 2
        }
      ]
    },
    {
      "cell_type": "code",
      "source": [
        "# Import the get_weather function from the fetch_my_weather package\n",
        "from fetch_my_weather import get_weather\n",
        "\n",
        "# First call to get_weather for the location \"Perth\"\n",
        "# The 'with_metadata=True' flag allows us to access response metadata such as cache status\n",
        "response1 = get_weather(\"Perth\", with_metadata=True)\n",
        "\n",
        "# Print whether the first response was served from cache\n",
        "# On the first call, this should typically be False unless it was previously cached\n",
        "print(\"🔁 First call - Cached?\", response1.metadata.is_cached)\n",
        "\n",
        "# Second call to the same location immediately after the first\n",
        "# Since we have a 30-minute cache window, this should now return cached data\n",
        "response2 = get_weather(\"Perth\", with_metadata=True)\n",
        "\n",
        "# Print whether the second response was served from cache\n",
        "# This should now print True, indicating the response came from the cache\n",
        "print(\"🔁 Second call - Cached?\", response2.metadata.is_cached)\n",
        "\n"
      ],
      "metadata": {
        "colab": {
          "base_uri": "https://localhost:8080/"
        },
        "id": "wp3m5i4RgLL3",
        "outputId": "b2a0052b-fc32-4b2d-9b92-0da4c409067e"
      },
      "execution_count": null,
      "outputs": [
        {
          "output_type": "stream",
          "name": "stdout",
          "text": [
            "🔁 First call - Cached? False\n",
            "🔁 Second call - Cached? False\n"
          ]
        }
      ]
    },
    {
      "cell_type": "code",
      "source": [
        "# Required for all visualisation plotting\n",
        "import matplotlib.pyplot as plt\n"
      ],
      "metadata": {
        "id": "FGz-z5H8wUD6"
      },
      "execution_count": null,
      "outputs": []
    },
    {
      "cell_type": "code",
      "source": [
        "# Used for parsing user weather questions using regular expressions\n",
        "import re"
      ],
      "metadata": {
        "id": "ManYZzlHAOQD"
      },
      "execution_count": null,
      "outputs": []
    },
    {
      "cell_type": "code",
      "source": [
        "# Used for basic string similarity (fallback if fuzzy matching is needed)\n",
        "import difflib"
      ],
      "metadata": {
        "id": "5OFq65WUK3zA"
      },
      "execution_count": null,
      "outputs": []
    },
    {
      "cell_type": "code",
      "source": [
        "# 📦 Install the RapidFuzz library (for fuzzy location matching and typo correction)\n",
        "# This helps suggest likely intended cities when the user enters an invalid location\n",
        "!pip install rapidfuzz"
      ],
      "metadata": {
        "colab": {
          "base_uri": "https://localhost:8080/"
        },
        "id": "lIeqzc-mOm7w",
        "outputId": "221f6c2a-ecc7-4ff0-ac3d-133cb5624660",
        "collapsed": true
      },
      "execution_count": null,
      "outputs": [
        {
          "output_type": "stream",
          "name": "stdout",
          "text": [
            "Collecting rapidfuzz\n",
            "  Downloading rapidfuzz-3.13.0-cp311-cp311-manylinux_2_17_x86_64.manylinux2014_x86_64.whl.metadata (12 kB)\n",
            "Downloading rapidfuzz-3.13.0-cp311-cp311-manylinux_2_17_x86_64.manylinux2014_x86_64.whl (3.1 MB)\n",
            "\u001b[2K   \u001b[90m━━━━━━━━━━━━━━━━━━━━━━━━━━━━━━━━━━━━━━━━\u001b[0m \u001b[32m3.1/3.1 MB\u001b[0m \u001b[31m23.6 MB/s\u001b[0m eta \u001b[36m0:00:00\u001b[0m\n",
            "\u001b[?25hInstalling collected packages: rapidfuzz\n",
            "Successfully installed rapidfuzz-3.13.0\n"
          ]
        }
      ]
    },
    {
      "cell_type": "code",
      "source": [
        "# 📦 Install PyInputPlus (used for input validation in the console UI)\n",
        "# Helps ensure users provide valid, expected menu and text inputs\n",
        "!pip install pyinputplus"
      ],
      "metadata": {
        "colab": {
          "base_uri": "https://localhost:8080/"
        },
        "id": "tN3cTTOrusEP",
        "outputId": "ac4a824b-ddcd-4246-8892-e2ac4adbf8bb"
      },
      "execution_count": null,
      "outputs": [
        {
          "output_type": "stream",
          "name": "stdout",
          "text": [
            "Collecting pyinputplus\n",
            "  Downloading PyInputPlus-0.2.12.tar.gz (20 kB)\n",
            "  Installing build dependencies ... \u001b[?25l\u001b[?25hdone\n",
            "  Getting requirements to build wheel ... \u001b[?25l\u001b[?25hdone\n",
            "  Preparing metadata (pyproject.toml) ... \u001b[?25l\u001b[?25hdone\n",
            "Collecting pysimplevalidate>=0.2.7 (from pyinputplus)\n",
            "  Downloading PySimpleValidate-0.2.12.tar.gz (22 kB)\n",
            "  Installing build dependencies ... \u001b[?25l\u001b[?25hdone\n",
            "  Getting requirements to build wheel ... \u001b[?25l\u001b[?25hdone\n",
            "  Preparing metadata (pyproject.toml) ... \u001b[?25l\u001b[?25hdone\n",
            "Collecting stdiomask>=0.0.3 (from pyinputplus)\n",
            "  Downloading stdiomask-0.0.6.tar.gz (3.6 kB)\n",
            "  Installing build dependencies ... \u001b[?25l\u001b[?25hdone\n",
            "  Getting requirements to build wheel ... \u001b[?25l\u001b[?25hdone\n",
            "  Preparing metadata (pyproject.toml) ... \u001b[?25l\u001b[?25hdone\n",
            "Building wheels for collected packages: pyinputplus, pysimplevalidate, stdiomask\n",
            "  Building wheel for pyinputplus (pyproject.toml) ... \u001b[?25l\u001b[?25hdone\n",
            "  Created wheel for pyinputplus: filename=pyinputplus-0.2.12-py3-none-any.whl size=11348 sha256=49bb4f4f961553d688ed1396e41fec816faa592659c8fb67338d9891dab5eb56\n",
            "  Stored in directory: /root/.cache/pip/wheels/a3/6b/89/3bec14288af8e0729d088fb41a785e583d49e772f2529c7676\n",
            "  Building wheel for pysimplevalidate (pyproject.toml) ... \u001b[?25l\u001b[?25hdone\n",
            "  Created wheel for pysimplevalidate: filename=pysimplevalidate-0.2.12-py3-none-any.whl size=16226 sha256=2d5a054581393ee4f670484fffc91656e1443246ebb696664a4ac7c16d0c7398\n",
            "  Stored in directory: /root/.cache/pip/wheels/fc/40/7a/4d3b2dc2e80b4b3bbda89eec94fcefd6c8bd1101cc7bb89554\n",
            "  Building wheel for stdiomask (pyproject.toml) ... \u001b[?25l\u001b[?25hdone\n",
            "  Created wheel for stdiomask: filename=stdiomask-0.0.6-py3-none-any.whl size=3356 sha256=0459f8d472dd6cb3e1f689ff7f1052fc90f82f3683b7fc885a3c4af7723fc119\n",
            "  Stored in directory: /root/.cache/pip/wheels/19/0c/90/5ee0da7cf06ff7e233f273063797785d5eabf0ab9f04220866\n",
            "Successfully built pyinputplus pysimplevalidate stdiomask\n",
            "Installing collected packages: stdiomask, pysimplevalidate, pyinputplus\n",
            "Successfully installed pyinputplus-0.2.12 pysimplevalidate-0.2.12 stdiomask-0.0.6\n"
          ]
        }
      ]
    },
    {
      "cell_type": "code",
      "source": [
        "from IPython.display import clear_output  # Used to clean the screen between menu iterations\n",
        "import time\n",
        "import pyinputplus as pyip  # Provides validated input handling"
      ],
      "metadata": {
        "id": "6b4tACwaYR9h"
      },
      "execution_count": null,
      "outputs": []
    }
  ]
}