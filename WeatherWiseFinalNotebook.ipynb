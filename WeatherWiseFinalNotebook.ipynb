{
  "nbformat": 4,
  "nbformat_minor": 0,
  "metadata": {
    "colab": {
      "provenance": [],
      "toc_visible": true,
      "authorship_tag": "ABX9TyPIZAg9v0sbjT61msHC0Vlp",
      "include_colab_link": true
    },
    "kernelspec": {
      "name": "python3",
      "display_name": "Python 3"
    },
    "language_info": {
      "name": "python"
    }
  },
  "cells": [
    {
      "cell_type": "markdown",
      "metadata": {
        "id": "view-in-github",
        "colab_type": "text"
      },
      "source": [
        "<a href=\"https://colab.research.google.com/github/22080275/WeatherWise-App/blob/main/WeatherWiseFinalNotebook.ipynb\" target=\"_parent\"><img src=\"https://colab.research.google.com/assets/colab-badge.svg\" alt=\"Open In Colab\"/></a>"
      ]
    },
    {
      "cell_type": "markdown",
      "source": [
        "## 📚 Table of Contents\n",
        "- [📦 Setup and Configuration](#📦-Setup-and-Configuration)\n",
        "- [🌤️ Weather Data Functions](#🌤️-Weather-Data-Functions)\n",
        "- [📊 Visualisation Functions](#📊-Visualisation-Functions)\n",
        "- [🤖 Natural Language Processing](#🤖-Natural-Language-Processing)\n",
        "- [🧭 User Interface](#🧭-User-Interface)\n",
        "- [🧩 Main Application Logic](#🧩-Main-Application-Logic)\n",
        "- [🧪 Testing and Examples](#🧪-Testing-and-Examples)\n"
      ],
      "metadata": {
        "id": "W6xb-GCLq6qO"
      }
    },
    {
      "cell_type": "markdown",
      "source": [
        "## 📦 Setup and Configuration"
      ],
      "metadata": {
        "id": "qZcNjHNVrDgG"
      }
    },
    {
      "cell_type": "code",
      "source": [
        "# Install required package in Google Colab\n",
        "!pip install fetch-my-weather"
      ],
      "metadata": {
        "id": "fsJSVBuu3ECV",
        "colab": {
          "base_uri": "https://localhost:8080/"
        },
        "outputId": "a23861ff-386e-492a-ae5b-717e0f5d7537"
      },
      "execution_count": 1,
      "outputs": [
        {
          "output_type": "stream",
          "name": "stdout",
          "text": [
            "Collecting fetch-my-weather\n",
            "  Downloading fetch_my_weather-0.4.0-py3-none-any.whl.metadata (12 kB)\n",
            "Requirement already satisfied: requests>=2.25.0 in /usr/local/lib/python3.11/dist-packages (from fetch-my-weather) (2.32.3)\n",
            "Requirement already satisfied: pydantic>=1.8.0 in /usr/local/lib/python3.11/dist-packages (from fetch-my-weather) (2.11.4)\n",
            "Requirement already satisfied: annotated-types>=0.6.0 in /usr/local/lib/python3.11/dist-packages (from pydantic>=1.8.0->fetch-my-weather) (0.7.0)\n",
            "Requirement already satisfied: pydantic-core==2.33.2 in /usr/local/lib/python3.11/dist-packages (from pydantic>=1.8.0->fetch-my-weather) (2.33.2)\n",
            "Requirement already satisfied: typing-extensions>=4.12.2 in /usr/local/lib/python3.11/dist-packages (from pydantic>=1.8.0->fetch-my-weather) (4.13.2)\n",
            "Requirement already satisfied: typing-inspection>=0.4.0 in /usr/local/lib/python3.11/dist-packages (from pydantic>=1.8.0->fetch-my-weather) (0.4.0)\n",
            "Requirement already satisfied: charset-normalizer<4,>=2 in /usr/local/lib/python3.11/dist-packages (from requests>=2.25.0->fetch-my-weather) (3.4.2)\n",
            "Requirement already satisfied: idna<4,>=2.5 in /usr/local/lib/python3.11/dist-packages (from requests>=2.25.0->fetch-my-weather) (3.10)\n",
            "Requirement already satisfied: urllib3<3,>=1.21.1 in /usr/local/lib/python3.11/dist-packages (from requests>=2.25.0->fetch-my-weather) (2.4.0)\n",
            "Requirement already satisfied: certifi>=2017.4.17 in /usr/local/lib/python3.11/dist-packages (from requests>=2.25.0->fetch-my-weather) (2025.4.26)\n",
            "Downloading fetch_my_weather-0.4.0-py3-none-any.whl (17 kB)\n",
            "Installing collected packages: fetch-my-weather\n",
            "Successfully installed fetch-my-weather-0.4.0\n"
          ]
        }
      ]
    },
    {
      "cell_type": "code",
      "source": [
        "# Import the fetch_my_weather package which provides a simple interface to fetch weather data\n",
        "import fetch_my_weather\n",
        "\n",
        "# Set the cache duration to 1800 seconds (30 minutes) to reduce unnecessary API calls\n",
        "# This helps improve performance and reduce rate-limiting issues with the weather service\n",
        "fetch_my_weather.set_cache_duration(1800)\n",
        "\n"
      ],
      "metadata": {
        "colab": {
          "base_uri": "https://localhost:8080/"
        },
        "id": "u_lHcNJVf05W",
        "outputId": "105267ca-1c3a-4b01-884f-e6a036ff7ef7"
      },
      "execution_count": 2,
      "outputs": [
        {
          "output_type": "execute_result",
          "data": {
            "text/plain": [
              "1800"
            ]
          },
          "metadata": {},
          "execution_count": 2
        }
      ]
    },
    {
      "cell_type": "code",
      "source": [
        "# Import the get_weather function from the fetch_my_weather package\n",
        "from fetch_my_weather import get_weather\n",
        "\n",
        "# First call to get_weather for the location \"Perth\"\n",
        "# The 'with_metadata=True' flag allows us to access response metadata such as cache status\n",
        "response1 = get_weather(\"Perth\", with_metadata=True)\n",
        "\n",
        "# Print whether the first response was served from cache\n",
        "# On the first call, this should typically be False unless it was previously cached\n",
        "print(\"🔁 First call - Cached?\", response1.metadata.is_cached)\n",
        "\n",
        "# Second call to the same location immediately after the first\n",
        "# Since we have a 30-minute cache window, this should now return cached data\n",
        "response2 = get_weather(\"Perth\", with_metadata=True)\n",
        "\n",
        "# Print whether the second response was served from cache\n",
        "# This should now print True, indicating the response came from the cache\n",
        "print(\"🔁 Second call - Cached?\", response2.metadata.is_cached)\n",
        "\n"
      ],
      "metadata": {
        "colab": {
          "base_uri": "https://localhost:8080/"
        },
        "id": "wp3m5i4RgLL3",
        "outputId": "b2a0052b-fc32-4b2d-9b92-0da4c409067e"
      },
      "execution_count": 3,
      "outputs": [
        {
          "output_type": "stream",
          "name": "stdout",
          "text": [
            "🔁 First call - Cached? False\n",
            "🔁 Second call - Cached? False\n"
          ]
        }
      ]
    },
    {
      "cell_type": "code",
      "source": [
        "# Required for all visualisation plotting\n",
        "import matplotlib.pyplot as plt\n"
      ],
      "metadata": {
        "id": "FGz-z5H8wUD6"
      },
      "execution_count": 4,
      "outputs": []
    },
    {
      "cell_type": "code",
      "source": [
        "# Used for parsing user weather questions using regular expressions\n",
        "import re"
      ],
      "metadata": {
        "id": "ManYZzlHAOQD"
      },
      "execution_count": 5,
      "outputs": []
    },
    {
      "cell_type": "code",
      "source": [
        "# Used for basic string similarity (fallback if fuzzy matching is needed)\n",
        "import difflib"
      ],
      "metadata": {
        "id": "5OFq65WUK3zA"
      },
      "execution_count": 6,
      "outputs": []
    },
    {
      "cell_type": "code",
      "source": [
        "# 📦 Install the RapidFuzz library (for fuzzy location matching and typo correction)\n",
        "# This helps suggest likely intended cities when the user enters an invalid location\n",
        "!pip install rapidfuzz"
      ],
      "metadata": {
        "colab": {
          "base_uri": "https://localhost:8080/"
        },
        "id": "lIeqzc-mOm7w",
        "outputId": "221f6c2a-ecc7-4ff0-ac3d-133cb5624660",
        "collapsed": true
      },
      "execution_count": 7,
      "outputs": [
        {
          "output_type": "stream",
          "name": "stdout",
          "text": [
            "Collecting rapidfuzz\n",
            "  Downloading rapidfuzz-3.13.0-cp311-cp311-manylinux_2_17_x86_64.manylinux2014_x86_64.whl.metadata (12 kB)\n",
            "Downloading rapidfuzz-3.13.0-cp311-cp311-manylinux_2_17_x86_64.manylinux2014_x86_64.whl (3.1 MB)\n",
            "\u001b[2K   \u001b[90m━━━━━━━━━━━━━━━━━━━━━━━━━━━━━━━━━━━━━━━━\u001b[0m \u001b[32m3.1/3.1 MB\u001b[0m \u001b[31m23.6 MB/s\u001b[0m eta \u001b[36m0:00:00\u001b[0m\n",
            "\u001b[?25hInstalling collected packages: rapidfuzz\n",
            "Successfully installed rapidfuzz-3.13.0\n"
          ]
        }
      ]
    },
    {
      "cell_type": "code",
      "source": [
        "# 📦 Install PyInputPlus (used for input validation in the console UI)\n",
        "# Helps ensure users provide valid, expected menu and text inputs\n",
        "!pip install pyinputplus"
      ],
      "metadata": {
        "colab": {
          "base_uri": "https://localhost:8080/"
        },
        "id": "tN3cTTOrusEP",
        "outputId": "ac4a824b-ddcd-4246-8892-e2ac4adbf8bb"
      },
      "execution_count": 8,
      "outputs": [
        {
          "output_type": "stream",
          "name": "stdout",
          "text": [
            "Collecting pyinputplus\n",
            "  Downloading PyInputPlus-0.2.12.tar.gz (20 kB)\n",
            "  Installing build dependencies ... \u001b[?25l\u001b[?25hdone\n",
            "  Getting requirements to build wheel ... \u001b[?25l\u001b[?25hdone\n",
            "  Preparing metadata (pyproject.toml) ... \u001b[?25l\u001b[?25hdone\n",
            "Collecting pysimplevalidate>=0.2.7 (from pyinputplus)\n",
            "  Downloading PySimpleValidate-0.2.12.tar.gz (22 kB)\n",
            "  Installing build dependencies ... \u001b[?25l\u001b[?25hdone\n",
            "  Getting requirements to build wheel ... \u001b[?25l\u001b[?25hdone\n",
            "  Preparing metadata (pyproject.toml) ... \u001b[?25l\u001b[?25hdone\n",
            "Collecting stdiomask>=0.0.3 (from pyinputplus)\n",
            "  Downloading stdiomask-0.0.6.tar.gz (3.6 kB)\n",
            "  Installing build dependencies ... \u001b[?25l\u001b[?25hdone\n",
            "  Getting requirements to build wheel ... \u001b[?25l\u001b[?25hdone\n",
            "  Preparing metadata (pyproject.toml) ... \u001b[?25l\u001b[?25hdone\n",
            "Building wheels for collected packages: pyinputplus, pysimplevalidate, stdiomask\n",
            "  Building wheel for pyinputplus (pyproject.toml) ... \u001b[?25l\u001b[?25hdone\n",
            "  Created wheel for pyinputplus: filename=pyinputplus-0.2.12-py3-none-any.whl size=11348 sha256=49bb4f4f961553d688ed1396e41fec816faa592659c8fb67338d9891dab5eb56\n",
            "  Stored in directory: /root/.cache/pip/wheels/a3/6b/89/3bec14288af8e0729d088fb41a785e583d49e772f2529c7676\n",
            "  Building wheel for pysimplevalidate (pyproject.toml) ... \u001b[?25l\u001b[?25hdone\n",
            "  Created wheel for pysimplevalidate: filename=pysimplevalidate-0.2.12-py3-none-any.whl size=16226 sha256=2d5a054581393ee4f670484fffc91656e1443246ebb696664a4ac7c16d0c7398\n",
            "  Stored in directory: /root/.cache/pip/wheels/fc/40/7a/4d3b2dc2e80b4b3bbda89eec94fcefd6c8bd1101cc7bb89554\n",
            "  Building wheel for stdiomask (pyproject.toml) ... \u001b[?25l\u001b[?25hdone\n",
            "  Created wheel for stdiomask: filename=stdiomask-0.0.6-py3-none-any.whl size=3356 sha256=0459f8d472dd6cb3e1f689ff7f1052fc90f82f3683b7fc885a3c4af7723fc119\n",
            "  Stored in directory: /root/.cache/pip/wheels/19/0c/90/5ee0da7cf06ff7e233f273063797785d5eabf0ab9f04220866\n",
            "Successfully built pyinputplus pysimplevalidate stdiomask\n",
            "Installing collected packages: stdiomask, pysimplevalidate, pyinputplus\n",
            "Successfully installed pyinputplus-0.2.12 pysimplevalidate-0.2.12 stdiomask-0.0.6\n"
          ]
        }
      ]
    },
    {
      "cell_type": "code",
      "source": [
        "from IPython.display import clear_output  # Used to clean the screen between menu iterations\n",
        "import time\n",
        "import pyinputplus as pyip  # Provides validated input handling"
      ],
      "metadata": {
        "id": "6b4tACwaYR9h"
      },
      "execution_count": 9,
      "outputs": []
    },
    {
      "cell_type": "markdown",
      "source": [
        "## 🌤️ Weather Data Functions\n",
        "This section contains the get_weather_data() function, which fetches weather data from the fetch-my-weather package.\n"
      ],
      "metadata": {
        "id": "y3ELk2Ln7J2s"
      }
    },
    {
      "cell_type": "code",
      "execution_count": 10,
      "metadata": {
        "id": "43V7IZw_2rFi"
      },
      "outputs": [],
      "source": [
        "# Import the get_weather function from the fetch_my_weather package\n",
        "from fetch_my_weather import get_weather\n",
        "\n",
        "def get_weather_data(location, forecast_days=3, use_mock=False):\n",
        "    \"\"\"\n",
        "    Retrieve weather data for a specified location using fetch-my-weather.\n",
        "\n",
        "    Args:\n",
        "        location (str): City or location name\n",
        "        forecast_days (int): Number of forecast days to retrieve (1–5 recommended)\n",
        "        use_mock (bool): If True, fetches mock weather data for testing\n",
        "\n",
        "    Returns:\n",
        "        object: WeatherResponse Pydantic model if successful, None if an error occurs\n",
        "    \"\"\"\n",
        "    try:\n",
        "        # Call the fetch-my-weather API with appropriate parameters\n",
        "        response = get_weather(\n",
        "            location=location,  # The location provided by the user\n",
        "            view_options=str(forecast_days - 1),  # API uses \"0\" for today, \"1\" for today + tomorrow, etc.\n",
        "            units=\"m\",  # Use metric system (Celsius, km/h)\n",
        "            format=\"json\",  # Return a structured Pydantic object\n",
        "            with_metadata=True,  # Include metadata to check for errors or mock mode\n",
        "            use_mock=use_mock  # Use mock data if enabled (for testing or rate-limited situations)\n",
        "        )\n",
        "\n",
        "        # Check if the response metadata indicates an error occurred\n",
        "        if hasattr(response, \"metadata\") and response.metadata.error_type:\n",
        "            print(f\"❌ Error occurred: {response.metadata.error_message}\")\n",
        "            return None  # Exit early if there was an error\n",
        "\n",
        "        # Warn the user if the returned data is mock rather than real API data\n",
        "        if response.metadata.is_mock:\n",
        "            print(\"⚠️ Using mock data — results may not reflect real weather conditions.\")\n",
        "\n",
        "        # Return only the actual weather data (not metadata)\n",
        "        return response.data\n",
        "\n",
        "    except Exception as e:\n",
        "        # Catch any unexpected exceptions and print an error message\n",
        "        print(f\"❌ Unexpected error while fetching weather: {e}\")\n",
        "        return None  # Return None if the fetch operation fails\n",
        "def get_validated_weather_data(original_location, forecast_days=3, use_mock=False):\n",
        "    \"\"\"\n",
        "    Attempts to retrieve weather data. If it fails, suggests a similar known city using rapidfuzz.\n",
        "\n",
        "    Args:\n",
        "        original_location (str): User-provided location (may be misspelled)\n",
        "        forecast_days (int): Number of forecast days\n",
        "        use_mock (bool): Whether to use mock data\n",
        "\n",
        "    Returns:\n",
        "        WeatherResponse or None\n",
        "    \"\"\"\n",
        "    from rapidfuzz import process\n",
        "\n",
        "    # List of known cities for fuzzy matching\n",
        "    known_cities = [\"Perth\", \"Melbourne\", \"Sydney\", \"Brisbane\", \"Adelaide\", \"Darwin\",\n",
        "                    \"Hobart\", \"Canberra\", \"Gold Coast\", \"Newcastle\", \"Geelong\", \"Townsville\",\n",
        "                    \"Cairns\", \"Toowoomba\", \"Ballarat\", \"Bendigo\", \"Wollongong\", \"Fremantle\",\n",
        "                    \"Kalgoorlie\", \"Bunbury\", \"Launceston\"]\n",
        "\n",
        "    location = original_location.strip()\n",
        "\n",
        "    # Try to fetch weather for the provided location\n",
        "    data = get_weather_data(location, forecast_days=forecast_days, use_mock=use_mock)\n",
        "\n",
        "    if data:\n",
        "        # ✅ Success — show corrected location if fuzzy matched\n",
        "        if location.lower() != original_location.lower():\n",
        "            print(f\"📍 Displaying results for: {location.title()}\")\n",
        "        return data\n",
        "\n",
        "    # ❌ Failed — fuzzy match a better name\n",
        "    print(f\"⚠️ Couldn't retrieve weather for '{original_location}'.\")\n",
        "    suggestion, score, _ = process.extractOne(original_location, known_cities)\n",
        "\n",
        "    if score >= 70:\n",
        "        retry = pyip.inputYesNo(f\"Did you mean '{suggestion}'? (yes/no): \")\n",
        "        if retry == \"yes\":\n",
        "            data = get_weather_data(suggestion, forecast_days=forecast_days, use_mock=use_mock)\n",
        "            if data:\n",
        "                print(f\"📍 Displaying results for: {suggestion}\")\n",
        "                return data\n",
        "\n",
        "    # Otherwise, let them try again manually\n",
        "    retry = pyip.inputYesNo(\"Would you like to try entering another location? (yes/no): \")\n",
        "    if retry == \"yes\":\n",
        "        new_loc = pyip.inputStr(\"Enter a new location: \")\n",
        "        return get_validated_weather_data(new_loc, forecast_days=forecast_days, use_mock=use_mock)\n",
        "\n",
        "    return None\n"
      ]
    },
    {
      "cell_type": "code",
      "source": [
        "# 🔧 Test function to ensure get_weather_data() works correctly\n",
        "\n",
        "# Call the weather data function for \"Perth\" with 3 forecast days\n",
        "# `use_mock=True` enables mock mode, which avoids hitting the real API and is safe for repeated testing\n",
        "data = get_weather_data(\"Perth\", forecast_days=3, use_mock=True)\n",
        "\n",
        "# ✅ Check if data was successfully returned before accessing its fields\n",
        "if data:\n",
        "    # Access the first item in the current_condition list (today's data)\n",
        "    current = data.current_condition[0]\n",
        "\n",
        "    # Display the current temperature in Celsius\n",
        "    print(f\"Temp: {current.temp_C}°C\")\n",
        "\n",
        "    # Display the text description of the current weather condition\n",
        "    print(f\"Condition: {current.weatherDesc[0].value}\")\n",
        "else:\n",
        "    # Handle case where data retrieval failed or returned None\n",
        "    print(\"No data returned.\")\n"
      ],
      "metadata": {
        "colab": {
          "base_uri": "https://localhost:8080/"
        },
        "id": "lyrUunuY33g_",
        "outputId": "72d72be9-700d-44b2-f11e-2468903ae199"
      },
      "execution_count": null,
      "outputs": [
        {
          "output_type": "stream",
          "name": "stdout",
          "text": [
            "⚠️ Using mock data — results may not reflect real weather conditions.\n",
            "Temp: 17°C\n",
            "Condition: Partly cloudy\n"
          ]
        }
      ]
    },
    {
      "cell_type": "markdown",
      "source": [
        "## 📊 Temperature Visualisation Function\n",
        "\n",
        "This section defines the `create_temperature_visualisation()` function, which generates a line chart of maximum and minimum daily temperatures using `matplotlib`.\n",
        "\n",
        "- It accepts the structured `weather_data` returned by `get_weather_data()`.\n",
        "- It plots temperature trends across multiple forecast days.\n",
        "- It includes error handling for missing data.\n",
        "- You can choose whether to display the chart in the notebook or return the figure object for saving/exporting later.\n"
      ],
      "metadata": {
        "id": "qpi447IX-wuG"
      }
    },
    {
      "cell_type": "code",
      "source": [
        "def create_temperature_visualisation(weather_data, output_type='display'):\n",
        "    \"\"\"\n",
        "    Create a temperature chart and either display or save it.\n",
        "\n",
        "    Args:\n",
        "        weather_data (WeatherResponse): The processed weather data\n",
        "        output_type (str): 'display' to show in notebook, 'save' to save as PNG\n",
        "    \"\"\"\n",
        "    dates = []      # Holds forecast dates\n",
        "    max_temps = []  # Holds max temperatures\n",
        "    min_temps = []  # Holds min temperatures\n",
        "\n",
        "    for day in weather_data.weather:\n",
        "        dates.append(day.date)\n",
        "        max_temps.append(int(day.maxtempC))\n",
        "        min_temps.append(int(day.mintempC))\n",
        "\n",
        "    plt.figure(figsize=(8, 5))  # Set chart size\n",
        "    plt.plot(dates, max_temps, label='Max Temp (°C)', marker='o')\n",
        "    plt.plot(dates, min_temps, label='Min Temp (°C)', marker='o')\n",
        "    plt.title(\"Temperature Forecast\")\n",
        "    plt.xlabel(\"Date\")\n",
        "    plt.ylabel(\"Temperature (°C)\")\n",
        "    plt.legend()\n",
        "    plt.grid(True)\n",
        "\n",
        "    if output_type == 'save':\n",
        "        plt.savefig(\"temperature_chart.png\")\n",
        "        print(\"✅ Saved temperature chart as temperature_chart.png\")\n",
        "    else:\n",
        "        plt.show()\n",
        "        plt.pause(0.001)  # Ensure chart renders before waiting\n",
        "        input(\"\\n⏎ Press Enter to return to the menu...\")\n",
        "\n",
        "    plt.close()  # Clean up the figure\n",
        "\n"
      ],
      "metadata": {
        "id": "0La_rkQY9q4R"
      },
      "execution_count": 11,
      "outputs": []
    },
    {
      "cell_type": "code",
      "source": [
        "# 🧪 Test temperature visualisation using mock weather data\n",
        "\n",
        "# Fetch mock weather data for Melbourne with a 3-day forecast\n",
        "data = get_weather_data(\"Melbourne\", forecast_days=3, use_mock=True)\n",
        "\n",
        "# ✅ If data was successfully retrieved, pass it to the visualisation function\n",
        "if data:\n",
        "    create_temperature_visualisation(data)  # Generate and display the temperature chart\n",
        "else:\n",
        "    print(\"⚠️ Failed to retrieve weather data for visualisation.\")  # Warn if no data\n"
      ],
      "metadata": {
        "id": "1nIUN1ZR9zpa",
        "colab": {
          "base_uri": "https://localhost:8080/",
          "height": 499
        },
        "outputId": "68f018ff-4115-42e2-cf36-ef08365bdf3a"
      },
      "execution_count": null,
      "outputs": [
        {
          "output_type": "stream",
          "name": "stdout",
          "text": [
            "⚠️ Using mock data — results may not reflect real weather conditions.\n"
          ]
        },
        {
          "output_type": "display_data",
          "data": {
            "text/plain": [
              "<Figure size 800x500 with 1 Axes>"
            ],
            "image/png": "[encoded data removed]"
          },
          "metadata": {}
        },
        {
          "name": "stdout",
          "output_type": "stream",
          "text": [
            "\n",
            "📸 Press Enter to return to the menu...\n"
          ]
        }
      ]
    },
    {
      "cell_type": "code",
      "source": [
        "# 🧪 Test temperature visualisation using real weather data\n",
        "\n",
        "# Fetch mock weather data for Melbourne with a 3-day forecast\n",
        "data = get_weather_data(\"Melbourne\", forecast_days=3, use_mock=False)\n",
        "\n",
        "# ✅ If data was successfully retrieved, pass it to the visualisation function\n",
        "if data:\n",
        "    create_temperature_visualisation(data)  # Generate and display the temperature chart\n",
        "else:\n",
        "    print(\"⚠️ Failed to retrieve weather data for visualisation.\")  # Warn if no data\n"
      ],
      "metadata": {
        "colab": {
          "base_uri": "https://localhost:8080/",
          "height": 848
        },
        "id": "rkABfJ9CeXxV",
        "outputId": "b2966975-d539-4061-e362-1e5aa0ff710c"
      },
      "execution_count": null,
      "outputs": [
        {
          "output_type": "display_data",
          "data": {
            "text/plain": [
              "<Figure size 800x500 with 1 Axes>"
            ],
            "image/png": "[encoded data removed]"
          },
          "metadata": {}
        },
        {
          "output_type": "error",
          "ename": "KeyboardInterrupt",
          "evalue": "Interrupted by user",
          "traceback": [
            "\u001b[0;31m---------------------------------------------------------------------------\u001b[0m",
            "\u001b[0;31mKeyboardInterrupt\u001b[0m                         Traceback (most recent call last)",
            "\u001b[0;32m<ipython-input-16-3c74563413b8>\u001b[0m in \u001b[0;36m<cell line: 0>\u001b[0;34m()\u001b[0m\n\u001b[1;32m      6\u001b[0m \u001b[0;31m# ✅ If data was successfully retrieved, pass it to the visualisation function\u001b[0m\u001b[0;34m\u001b[0m\u001b[0;34m\u001b[0m\u001b[0m\n\u001b[1;32m      7\u001b[0m \u001b[0;32mif\u001b[0m \u001b[0mdata\u001b[0m\u001b[0;34m:\u001b[0m\u001b[0;34m\u001b[0m\u001b[0;34m\u001b[0m\u001b[0m\n\u001b[0;32m----> 8\u001b[0;31m     \u001b[0mcreate_temperature_visualisation\u001b[0m\u001b[0;34m(\u001b[0m\u001b[0mdata\u001b[0m\u001b[0;34m)\u001b[0m  \u001b[0;31m# Generate and display the temperature chart\u001b[0m\u001b[0;34m\u001b[0m\u001b[0;34m\u001b[0m\u001b[0m\n\u001b[0m\u001b[1;32m      9\u001b[0m \u001b[0;32melse\u001b[0m\u001b[0;34m:\u001b[0m\u001b[0;34m\u001b[0m\u001b[0;34m\u001b[0m\u001b[0m\n\u001b[1;32m     10\u001b[0m     \u001b[0mprint\u001b[0m\u001b[0;34m(\u001b[0m\u001b[0;34m\"⚠️ Failed to retrieve weather data for visualisation.\"\u001b[0m\u001b[0;34m)\u001b[0m  \u001b[0;31m# Warn if no data\u001b[0m\u001b[0;34m\u001b[0m\u001b[0;34m\u001b[0m\u001b[0m\n",
            "\u001b[0;32m<ipython-input-14-d056d6df0a20>\u001b[0m in \u001b[0;36mcreate_temperature_visualisation\u001b[0;34m(weather_data, output_type)\u001b[0m\n\u001b[1;32m     31\u001b[0m         \u001b[0mplt\u001b[0m\u001b[0;34m.\u001b[0m\u001b[0mshow\u001b[0m\u001b[0;34m(\u001b[0m\u001b[0;34m)\u001b[0m\u001b[0;34m\u001b[0m\u001b[0;34m\u001b[0m\u001b[0m\n\u001b[1;32m     32\u001b[0m         \u001b[0mplt\u001b[0m\u001b[0;34m.\u001b[0m\u001b[0mpause\u001b[0m\u001b[0;34m(\u001b[0m\u001b[0;36m0.001\u001b[0m\u001b[0;34m)\u001b[0m  \u001b[0;31m# Ensure chart renders before waiting\u001b[0m\u001b[0;34m\u001b[0m\u001b[0;34m\u001b[0m\u001b[0m\n\u001b[0;32m---> 33\u001b[0;31m         \u001b[0minput\u001b[0m\u001b[0;34m(\u001b[0m\u001b[0;34m\"\\n📸 Press Enter to return to the menu...\"\u001b[0m\u001b[0;34m)\u001b[0m  \u001b[0;31m# Give user a moment\u001b[0m\u001b[0;34m\u001b[0m\u001b[0;34m\u001b[0m\u001b[0m\n\u001b[0m\u001b[1;32m     34\u001b[0m \u001b[0;34m\u001b[0m\u001b[0m\n\u001b[1;32m     35\u001b[0m     \u001b[0mplt\u001b[0m\u001b[0;34m.\u001b[0m\u001b[0mclose\u001b[0m\u001b[0;34m(\u001b[0m\u001b[0;34m)\u001b[0m  \u001b[0;31m# Clean up the figure\u001b[0m\u001b[0;34m\u001b[0m\u001b[0;34m\u001b[0m\u001b[0m\n",
            "\u001b[0;32m/usr/local/lib/python3.11/dist-packages/ipykernel/kernelbase.py\u001b[0m in \u001b[0;36mraw_input\u001b[0;34m(self, prompt)\u001b[0m\n\u001b[1;32m   1175\u001b[0m                 \u001b[0;34m\"raw_input was called, but this frontend does not support input requests.\"\u001b[0m\u001b[0;34m\u001b[0m\u001b[0;34m\u001b[0m\u001b[0m\n\u001b[1;32m   1176\u001b[0m             )\n\u001b[0;32m-> 1177\u001b[0;31m         return self._input_request(\n\u001b[0m\u001b[1;32m   1178\u001b[0m             \u001b[0mstr\u001b[0m\u001b[0;34m(\u001b[0m\u001b[0mprompt\u001b[0m\u001b[0;34m)\u001b[0m\u001b[0;34m,\u001b[0m\u001b[0;34m\u001b[0m\u001b[0;34m\u001b[0m\u001b[0m\n\u001b[1;32m   1179\u001b[0m             \u001b[0mself\u001b[0m\u001b[0;34m.\u001b[0m\u001b[0m_parent_ident\u001b[0m\u001b[0;34m[\u001b[0m\u001b[0;34m\"shell\"\u001b[0m\u001b[0;34m]\u001b[0m\u001b[0;34m,\u001b[0m\u001b[0;34m\u001b[0m\u001b[0;34m\u001b[0m\u001b[0m\n",
            "\u001b[0;32m/usr/local/lib/python3.11/dist-packages/ipykernel/kernelbase.py\u001b[0m in \u001b[0;36m_input_request\u001b[0;34m(self, prompt, ident, parent, password)\u001b[0m\n\u001b[1;32m   1217\u001b[0m             \u001b[0;32mexcept\u001b[0m \u001b[0mKeyboardInterrupt\u001b[0m\u001b[0;34m:\u001b[0m\u001b[0;34m\u001b[0m\u001b[0;34m\u001b[0m\u001b[0m\n\u001b[1;32m   1218\u001b[0m                 \u001b[0;31m# re-raise KeyboardInterrupt, to truncate traceback\u001b[0m\u001b[0;34m\u001b[0m\u001b[0;34m\u001b[0m\u001b[0m\n\u001b[0;32m-> 1219\u001b[0;31m                 \u001b[0;32mraise\u001b[0m \u001b[0mKeyboardInterrupt\u001b[0m\u001b[0;34m(\u001b[0m\u001b[0;34m\"Interrupted by user\"\u001b[0m\u001b[0;34m)\u001b[0m \u001b[0;32mfrom\u001b[0m \u001b[0;32mNone\u001b[0m\u001b[0;34m\u001b[0m\u001b[0;34m\u001b[0m\u001b[0m\n\u001b[0m\u001b[1;32m   1220\u001b[0m             \u001b[0;32mexcept\u001b[0m \u001b[0mException\u001b[0m\u001b[0;34m:\u001b[0m\u001b[0;34m\u001b[0m\u001b[0;34m\u001b[0m\u001b[0m\n\u001b[1;32m   1221\u001b[0m                 \u001b[0mself\u001b[0m\u001b[0;34m.\u001b[0m\u001b[0mlog\u001b[0m\u001b[0;34m.\u001b[0m\u001b[0mwarning\u001b[0m\u001b[0;34m(\u001b[0m\u001b[0;34m\"Invalid Message:\"\u001b[0m\u001b[0;34m,\u001b[0m \u001b[0mexc_info\u001b[0m\u001b[0;34m=\u001b[0m\u001b[0;32mTrue\u001b[0m\u001b[0;34m)\u001b[0m\u001b[0;34m\u001b[0m\u001b[0;34m\u001b[0m\u001b[0m\n",
            "\u001b[0;31mKeyboardInterrupt\u001b[0m: Interrupted by user"
          ]
        }
      ]
    },
    {
      "cell_type": "markdown",
      "source": [
        "## 🌧 Precipitation Visualisation Function\n",
        "\n",
        "This section defines the `create_precipitation_visualisation()` function, which displays the average daily chance of precipitation using a bar chart.\n",
        "\n",
        "- Extracts hourly rain probabilities for each forecast day\n",
        "- Calculates a simple daily average\n",
        "- Uses `matplotlib` to display clear bar chart visuals\n",
        "- Gracefully handles missing or malformed data\n"
      ],
      "metadata": {
        "id": "fKOd23bjB1yz"
      }
    },
    {
      "cell_type": "code",
      "source": [
        "def create_precipitation_visualisation(weather_data, output_type='display'):\n",
        "    \"\"\"\n",
        "    Create a precipitation chart and either display or save it.\n",
        "\n",
        "    Args:\n",
        "        weather_data (WeatherResponse): The processed weather data\n",
        "        output_type (str): 'display' to show or 'save' to write PNG\n",
        "    \"\"\"\n",
        "    print(\"🧪 Debugging Daily Precipitation Data...\\n\")\n",
        "\n",
        "    labels = []     # Dates for x-axis\n",
        "    averages = []   # Average chance of rain for each day\n",
        "\n",
        "    for day in weather_data.weather:\n",
        "        labels.append(day.date)\n",
        "\n",
        "        if hasattr(day, \"hourly\"):\n",
        "            rain_chances = [\n",
        "                int(hour.chanceofrain)\n",
        "                for hour in day.hourly\n",
        "                if hasattr(hour, \"chanceofrain\") and hour.chanceofrain is not None\n",
        "            ]\n",
        "            avg_rain = sum(rain_chances) / len(rain_chances) if rain_chances else 0\n",
        "            averages.append(avg_rain)\n",
        "            print(f\"📅 Date: {day.date}\")\n",
        "            print(f\"✅ Parsed {len(rain_chances)} values | Daily Avg: {avg_rain:.1f}%\\n\")\n",
        "        else:\n",
        "            averages.append(0)\n",
        "            print(f\"⚠️ No hourly data for {day.date}\")\n",
        "\n",
        "    plt.figure(figsize=(8, 5))\n",
        "    plt.bar(labels, averages, color='skyblue')\n",
        "    plt.title(\"Daily Average Rain Chance\")\n",
        "    plt.xlabel(\"Date\")\n",
        "    plt.ylabel(\"Chance of Rain (%)\")\n",
        "    plt.grid(True, axis='y')\n",
        "\n",
        "    if output_type == 'save':\n",
        "        plt.savefig(\"precipitation_chart.png\")\n",
        "        print(\"✅ Saved precipitation chart as precipitation_chart.png\")\n",
        "    else:\n",
        "        plt.show()\n",
        "        plt.pause(0.001)\n",
        "        input(\"\\n⏎ Press Enter to return to the menu...\")\n",
        "\n",
        "    plt.close()\n"
      ],
      "metadata": {
        "id": "P8DnKvqlBoY6"
      },
      "execution_count": 12,
      "outputs": []
    },
    {
      "cell_type": "code",
      "source": [
        "# 🧪 Test with mock mode enabled — this ensures consistent test data\n",
        "data = get_weather_data(\"Melbourne\", forecast_days=3, use_mock=True)\n",
        "\n",
        "# ✅ If data was successfully retrieved, generate the precipitation chart\n",
        "if data:\n",
        "    create_precipitation_visualisation(data)\n",
        "else:\n",
        "    print(\"⚠️ Failed to retrieve weather data for visualisation.\")  # Catch unexpected failures\n"
      ],
      "metadata": {
        "colab": {
          "base_uri": "https://localhost:8080/",
          "height": 536
        },
        "id": "VCLdIKfyCBz1",
        "outputId": "07ca8697-986e-419b-b82d-98fac49da693"
      },
      "execution_count": null,
      "outputs": [
        {
          "output_type": "stream",
          "name": "stdout",
          "text": [
            "⚠️ Using mock data — results may not reflect real weather conditions.\n",
            "🧪 Debugging Daily Precipitation Data...\n",
            "\n",
            "📅 Date: 2025-04-13\n",
            "✅ Parsed 0 values | Daily Avg: 0.0%\n",
            "\n"
          ]
        },
        {
          "output_type": "display_data",
          "data": {
            "text/plain": [
              "<Figure size 800x500 with 1 Axes>"
            ],
            "image/png": "[encoded data removed]"
          },
          "metadata": {}
        }
      ]
    },
    {
      "cell_type": "code",
      "source": [
        "# 🌐 Test the precipitation visualisation using real weather data\n",
        "data = get_weather_data(\"Melbourne\", forecast_days=3, use_mock=False)  # 🔍 Fetch real weather data (not mock) for Melbourne\n",
        "\n",
        "# ✅ Ensure data was retrieved successfully before attempting to visualise\n",
        "if data:\n",
        "    create_precipitation_visualisation(data)  # 🌧️ Generate and display/save the precipitation chart from real data\n",
        "else:\n",
        "    print(\"⚠️ Failed to retrieve real weather data for visualisation.\")  # 🚫 Handle potential API/network failure gracefully\n",
        "\n"
      ],
      "metadata": {
        "colab": {
          "base_uri": "https://localhost:8080/",
          "height": 1000
        },
        "id": "EBfDT9ZyD0gS",
        "outputId": "a120208a-36ce-4b51-c346-7ac853b78f98"
      },
      "execution_count": null,
      "outputs": [
        {
          "output_type": "stream",
          "name": "stdout",
          "text": [
            "🧪 Debugging Daily Precipitation Data...\n",
            "\n",
            "📅 Date: 2025-05-22\n",
            "✅ Parsed 8 values | Daily Avg: 0.0%\n",
            "\n",
            "📅 Date: 2025-05-23\n",
            "✅ Parsed 8 values | Daily Avg: 8.1%\n",
            "\n",
            "📅 Date: 2025-05-24\n",
            "✅ Parsed 8 values | Daily Avg: 0.0%\n",
            "\n"
          ]
        },
        {
          "output_type": "display_data",
          "data": {
            "text/plain": [
              "<Figure size 800x500 with 1 Axes>"
            ],
            "image/png": "[encoded data removed]"
          },
          "metadata": {}
        },
        {
          "output_type": "error",
          "ename": "KeyboardInterrupt",
          "evalue": "Interrupted by user",
          "traceback": [
            "\u001b[0;31m---------------------------------------------------------------------------\u001b[0m",
            "\u001b[0;31mKeyboardInterrupt\u001b[0m                         Traceback (most recent call last)",
            "\u001b[0;32m<ipython-input-19-24e307ce1c33>\u001b[0m in \u001b[0;36m<cell line: 0>\u001b[0;34m()\u001b[0m\n\u001b[1;32m      4\u001b[0m \u001b[0;31m# ✅ Ensure data was retrieved successfully before attempting to visualise\u001b[0m\u001b[0;34m\u001b[0m\u001b[0;34m\u001b[0m\u001b[0m\n\u001b[1;32m      5\u001b[0m \u001b[0;32mif\u001b[0m \u001b[0mdata\u001b[0m\u001b[0;34m:\u001b[0m\u001b[0;34m\u001b[0m\u001b[0;34m\u001b[0m\u001b[0m\n\u001b[0;32m----> 6\u001b[0;31m     \u001b[0mcreate_precipitation_visualisation\u001b[0m\u001b[0;34m(\u001b[0m\u001b[0mdata\u001b[0m\u001b[0;34m)\u001b[0m  \u001b[0;31m# 🌧️ Generate and display/save the precipitation chart from real data\u001b[0m\u001b[0;34m\u001b[0m\u001b[0;34m\u001b[0m\u001b[0m\n\u001b[0m\u001b[1;32m      7\u001b[0m \u001b[0;32melse\u001b[0m\u001b[0;34m:\u001b[0m\u001b[0;34m\u001b[0m\u001b[0;34m\u001b[0m\u001b[0m\n\u001b[1;32m      8\u001b[0m     \u001b[0mprint\u001b[0m\u001b[0;34m(\u001b[0m\u001b[0;34m\"⚠️ Failed to retrieve real weather data for visualisation.\"\u001b[0m\u001b[0;34m)\u001b[0m  \u001b[0;31m# 🚫 Handle potential API/network failure gracefully\u001b[0m\u001b[0;34m\u001b[0m\u001b[0;34m\u001b[0m\u001b[0m\n",
            "\u001b[0;32m<ipython-input-17-47191d283803>\u001b[0m in \u001b[0;36mcreate_precipitation_visualisation\u001b[0;34m(weather_data, output_type)\u001b[0m\n\u001b[1;32m     42\u001b[0m         \u001b[0mplt\u001b[0m\u001b[0;34m.\u001b[0m\u001b[0mshow\u001b[0m\u001b[0;34m(\u001b[0m\u001b[0;34m)\u001b[0m\u001b[0;34m\u001b[0m\u001b[0;34m\u001b[0m\u001b[0m\n\u001b[1;32m     43\u001b[0m         \u001b[0mplt\u001b[0m\u001b[0;34m.\u001b[0m\u001b[0mpause\u001b[0m\u001b[0;34m(\u001b[0m\u001b[0;36m0.001\u001b[0m\u001b[0;34m)\u001b[0m\u001b[0;34m\u001b[0m\u001b[0;34m\u001b[0m\u001b[0m\n\u001b[0;32m---> 44\u001b[0;31m         \u001b[0minput\u001b[0m\u001b[0;34m(\u001b[0m\u001b[0;34m\"\\n📸 Press Enter to return to the menu...\"\u001b[0m\u001b[0;34m)\u001b[0m\u001b[0;34m\u001b[0m\u001b[0;34m\u001b[0m\u001b[0m\n\u001b[0m\u001b[1;32m     45\u001b[0m \u001b[0;34m\u001b[0m\u001b[0m\n\u001b[1;32m     46\u001b[0m     \u001b[0mplt\u001b[0m\u001b[0;34m.\u001b[0m\u001b[0mclose\u001b[0m\u001b[0;34m(\u001b[0m\u001b[0;34m)\u001b[0m\u001b[0;34m\u001b[0m\u001b[0;34m\u001b[0m\u001b[0m\n",
            "\u001b[0;32m/usr/local/lib/python3.11/dist-packages/ipykernel/kernelbase.py\u001b[0m in \u001b[0;36mraw_input\u001b[0;34m(self, prompt)\u001b[0m\n\u001b[1;32m   1175\u001b[0m                 \u001b[0;34m\"raw_input was called, but this frontend does not support input requests.\"\u001b[0m\u001b[0;34m\u001b[0m\u001b[0;34m\u001b[0m\u001b[0m\n\u001b[1;32m   1176\u001b[0m             )\n\u001b[0;32m-> 1177\u001b[0;31m         return self._input_request(\n\u001b[0m\u001b[1;32m   1178\u001b[0m             \u001b[0mstr\u001b[0m\u001b[0;34m(\u001b[0m\u001b[0mprompt\u001b[0m\u001b[0;34m)\u001b[0m\u001b[0;34m,\u001b[0m\u001b[0;34m\u001b[0m\u001b[0;34m\u001b[0m\u001b[0m\n\u001b[1;32m   1179\u001b[0m             \u001b[0mself\u001b[0m\u001b[0;34m.\u001b[0m\u001b[0m_parent_ident\u001b[0m\u001b[0;34m[\u001b[0m\u001b[0;34m\"shell\"\u001b[0m\u001b[0;34m]\u001b[0m\u001b[0;34m,\u001b[0m\u001b[0;34m\u001b[0m\u001b[0;34m\u001b[0m\u001b[0m\n",
            "\u001b[0;32m/usr/local/lib/python3.11/dist-packages/ipykernel/kernelbase.py\u001b[0m in \u001b[0;36m_input_request\u001b[0;34m(self, prompt, ident, parent, password)\u001b[0m\n\u001b[1;32m   1217\u001b[0m             \u001b[0;32mexcept\u001b[0m \u001b[0mKeyboardInterrupt\u001b[0m\u001b[0;34m:\u001b[0m\u001b[0;34m\u001b[0m\u001b[0;34m\u001b[0m\u001b[0m\n\u001b[1;32m   1218\u001b[0m                 \u001b[0;31m# re-raise KeyboardInterrupt, to truncate traceback\u001b[0m\u001b[0;34m\u001b[0m\u001b[0;34m\u001b[0m\u001b[0m\n\u001b[0;32m-> 1219\u001b[0;31m                 \u001b[0;32mraise\u001b[0m \u001b[0mKeyboardInterrupt\u001b[0m\u001b[0;34m(\u001b[0m\u001b[0;34m\"Interrupted by user\"\u001b[0m\u001b[0;34m)\u001b[0m \u001b[0;32mfrom\u001b[0m \u001b[0;32mNone\u001b[0m\u001b[0;34m\u001b[0m\u001b[0;34m\u001b[0m\u001b[0m\n\u001b[0m\u001b[1;32m   1220\u001b[0m             \u001b[0;32mexcept\u001b[0m \u001b[0mException\u001b[0m\u001b[0;34m:\u001b[0m\u001b[0;34m\u001b[0m\u001b[0;34m\u001b[0m\u001b[0m\n\u001b[1;32m   1221\u001b[0m                 \u001b[0mself\u001b[0m\u001b[0;34m.\u001b[0m\u001b[0mlog\u001b[0m\u001b[0;34m.\u001b[0m\u001b[0mwarning\u001b[0m\u001b[0;34m(\u001b[0m\u001b[0;34m\"Invalid Message:\"\u001b[0m\u001b[0;34m,\u001b[0m \u001b[0mexc_info\u001b[0m\u001b[0;34m=\u001b[0m\u001b[0;32mTrue\u001b[0m\u001b[0;34m)\u001b[0m\u001b[0;34m\u001b[0m\u001b[0;34m\u001b[0m\u001b[0m\n",
            "\u001b[0;31mKeyboardInterrupt\u001b[0m: Interrupted by user"
          ]
        }
      ]
    },
    {
      "cell_type": "markdown",
      "source": [
        "## 🌕 Moon Phase Feature\n",
        "\n",
        "This feature uses `fetch_my_weather` to display the current moon phase for a given location.\n",
        "\n",
        "- Accessed via the main menu\n",
        "- Uses the `is_moon=True` option\n",
        "- Automatically handles date and location\n"
      ],
      "metadata": {
        "id": "MhIG16pfbTjn"
      }
    },
    {
      "cell_type": "code",
      "source": [
        "def show_moon_phase(location=\"\"):\n",
        "    \"\"\"\n",
        "    Display the current moon phase for a given location.\n",
        "\n",
        "    Args:\n",
        "        location (str): Optional city or place name (defaults to current IP location if blank)\n",
        "    \"\"\"\n",
        "\n",
        "    # 🌓 Notify the user that we're retrieving moon phase data\n",
        "    print(f\"\\n🌙 Fetching moon phase for {location or 'your current location'}...\")\n",
        "\n",
        "    # 🌑 Call the fetch-my-weather API with is_moon=True to get moon data as plain text\n",
        "    data = get_weather(location, is_moon=True, format=\"text\")\n",
        "\n",
        "    # ❌ Check for error response from the API (error messages are returned as strings)\n",
        "    if isinstance(data, str) and data.startswith(\"Error:\"):\n",
        "        print(\"❌ Could not fetch moon phase.\")  # Alert user of failure\n",
        "    else:\n",
        "        print(data)  # 🌕 Successfully fetched moon phase data — display it\n"
      ],
      "metadata": {
        "id": "8jg2dZYJbU-I"
      },
      "execution_count": 13,
      "outputs": []
    },
    {
      "cell_type": "markdown",
      "source": [
        "## 🧠 Natural Language Processing Functions\n",
        "\n",
        "This section contains `parse_weather_question()`, which extracts the intent and weather details from a user’s plain-English question.\n",
        "\n",
        "- Identifies location, time period (e.g., today, tomorrow), and attribute (e.g., rain, temperature)\n",
        "- Designed to support flexible weather-related questions from users\n",
        "- Used with `generate_weather_response()` to build the full chatbot experience\n"
      ],
      "metadata": {
        "id": "obZcAk1hR_x_"
      }
    },
    {
      "cell_type": "code",
      "source": [
        "def parse_weather_question(question):\n",
        "    \"\"\"\n",
        "    Parse a natural language weather question.\n",
        "\n",
        "    Args:\n",
        "        question (str): User's weather-related question\n",
        "\n",
        "    Returns:\n",
        "        dict: Parsed data with keys: 'location', 'time_period', 'attribute'\n",
        "    \"\"\"\n",
        "    question = question.lower().strip()\n",
        "\n",
        "    # 🎯 Keywords to detect time-related terms\n",
        "    time_keywords = {\n",
        "        \"today\": \"today\",\n",
        "        \"tomorrow\": \"tomorrow\",\n",
        "        \"weekend\": \"weekend\"\n",
        "    }\n",
        "\n",
        "    # 🧠 Keywords to detect attribute-related terms\n",
        "    attribute_keywords = {\n",
        "        \"rain\": \"rain\", \"umbrella\": \"rain\",\n",
        "        \"temperature\": \"temperature\", \"temp\": \"temperature\",\n",
        "        \"hot\": \"temperature\", \"cold\": \"temperature\",\n",
        "        \"humidity\": \"humidity\", \"humid\": \"humidity\", \"moist\": \"humidity\",\n",
        "        \"wind\": \"wind\", \"windy\": \"wind\", \"breeze\": \"wind\"\n",
        "    }\n",
        "\n",
        "    parsed = {\n",
        "        \"location\": None,\n",
        "        \"time_period\": \"today\",\n",
        "        \"attribute\": \"general\"\n",
        "    }\n",
        "\n",
        "    # 🕒 Extract time period\n",
        "    for word in time_keywords:\n",
        "        if re.search(rf\"\\b{word}\\b\", question):\n",
        "            parsed[\"time_period\"] = time_keywords[word]\n",
        "            question = re.sub(rf\"\\b{word}\\b\", \"\", question)  # Remove it from the string\n",
        "            break\n",
        "\n",
        "    # 🧊 Extract attribute\n",
        "    for word in attribute_keywords:\n",
        "        if re.search(rf\"\\b{word}\\b\", question):\n",
        "            parsed[\"attribute\"] = attribute_keywords[word]\n",
        "            question = re.sub(rf\"\\b{word}\\b\", \"\", question)  # Remove it too\n",
        "            break\n",
        "\n",
        "    # 🧹 Clean digits/extra words (like \"tomorrow4\", \"in perth2\")\n",
        "    question = re.sub(r\"\\d+\", \"\", question)  # Remove trailing digits\n",
        "\n",
        "    # 🗺️ Try to extract location after 'in' or 'for'\n",
        "    match = re.search(r\"\\b(?:in|for)\\s+([a-zA-Z\\s]+)\", question)\n",
        "    if match:\n",
        "        location = match.group(1).strip()\n",
        "        parsed[\"location\"] = location\n",
        "\n",
        "    return parsed\n"
      ],
      "metadata": {
        "id": "_U2VruTNSA-C"
      },
      "execution_count": 14,
      "outputs": []
    },
    {
      "cell_type": "code",
      "source": [
        "# 🧪 Test the parse_weather_question function with two realistic inputs\n",
        "\n",
        "# ✅ Test case 1: Includes 'windy', 'tomorrow', and a location\n",
        "print(parse_weather_question(\"Is it windy tomorrow in Perth?\"))\n",
        "# 🔎 Expected output:\n",
        "# {'location': 'perth', 'time_period': 'tomorrow', 'attribute': 'wind'}\n",
        "\n",
        "# ✅ Test case 2: Includes 'humid', 'today', and a different location\n",
        "print(parse_weather_question(\"Will it be humid today in Darwin?\"))\n",
        "# 🔎 Expected output:\n",
        "# {'location': 'darwin', 'time_period': 'today', 'attribute': 'humidity'}\n",
        "\n"
      ],
      "metadata": {
        "colab": {
          "base_uri": "https://localhost:8080/"
        },
        "id": "fsGcbjdISlMB",
        "outputId": "142f1ce8-7762-4dd2-b803-4bb5feb913a9"
      },
      "execution_count": null,
      "outputs": [
        {
          "output_type": "stream",
          "name": "stdout",
          "text": [
            "{'location': 'perth', 'time_period': 'tomorrow', 'attribute': 'wind'}\n",
            "{'location': 'darwin', 'time_period': 'today', 'attribute': 'humidity'}\n"
          ]
        }
      ]
    },
    {
      "cell_type": "markdown",
      "source": [
        "## 🧠 Weather Response Generator Function\n",
        "\n",
        "This section defines `generate_weather_response()`, which takes a parsed question and weather data, then generates a natural-sounding answer for the user.\n",
        "\n",
        "- Supports rain and temperature queries\n",
        "- Matches the requested date (today, tomorrow, etc.)\n",
        "- Handles missing data with clear fallback messages\n",
        "- Completes the natural language interface when paired with `parse_weather_question()`\n"
      ],
      "metadata": {
        "id": "pUyIV4BzTEvO"
      }
    },
    {
      "cell_type": "code",
      "source": [
        "def generate_weather_response(parsed_question, weather_data):\n",
        "    \"\"\"\n",
        "    Generate a natural language response to a weather question.\n",
        "\n",
        "    Args:\n",
        "        parsed_question (dict): Parsed question data\n",
        "        weather_data (WeatherResponse): Weather data\n",
        "\n",
        "    Returns:\n",
        "        str: Natural language response\n",
        "    \"\"\"\n",
        "    # 🧹 Extract and clean the location name (safe handling if None is returned)\n",
        "    location_raw = parsed_question.get(\"location\")\n",
        "    location = location_raw.strip().title() if isinstance(location_raw, str) else \"your location\"\n",
        "\n",
        "    # 🧠 Extract attribute (rain, temp, wind, etc.) and time (today/tomorrow)\n",
        "    attribute = parsed_question.get(\"attribute\", \"general\")\n",
        "    time_period = parsed_question.get(\"time_period\", \"today\")\n",
        "\n",
        "    # 📆 Determine which forecast day to use\n",
        "    day_index = 0 if time_period == \"today\" else 1 if time_period == \"tomorrow\" else 0\n",
        "\n",
        "    # ✅ Validate that forecast data is available\n",
        "    if not hasattr(weather_data, \"weather\") or not weather_data.weather:\n",
        "        return f\"Sorry, I couldn't find any forecast data for {location}.\"\n",
        "\n",
        "    try:\n",
        "        forecast = weather_data.weather[day_index]  # Attempt to select the requested day\n",
        "    except IndexError:\n",
        "        return f\"Sorry, I don't have a forecast for {time_period} in {location}.\"  # Graceful fallback\n",
        "\n",
        "    # 🌧️ Rain logic\n",
        "    if attribute == \"rain\":\n",
        "        if hasattr(forecast, \"hourly\"):\n",
        "            try:\n",
        "                # Extract hourly rain chance values if present\n",
        "                rain_chances = [\n",
        "                    int(hour.chanceofrain)\n",
        "                    for hour in forecast.hourly\n",
        "                    if hasattr(hour, \"chanceofrain\") and hour.chanceofrain is not None\n",
        "                ]\n",
        "                # Compute average rain chance\n",
        "                avg_rain = sum(rain_chances) / len(rain_chances) if rain_chances else 0\n",
        "                return f\"The chance of rain {time_period} in {location} is around {int(avg_rain)}%.\"\n",
        "            except:\n",
        "                return f\"I couldn't interpret the rain data for {location}.\"  # Error safety fallback\n",
        "\n",
        "    # 🌡️ Temperature logic\n",
        "    elif attribute == \"temperature\":\n",
        "        return (\n",
        "            f\"The max temperature {time_period} in {location} is expected to be {forecast.maxtempC}°C, \"\n",
        "            f\"and the minimum is {forecast.mintempC}°C.\"\n",
        "        )\n",
        "\n",
        "    # 💧 Humidity logic\n",
        "    elif attribute == \"humidity\":\n",
        "        if hasattr(forecast, \"hourly\"):\n",
        "            try:\n",
        "                # Extract hourly humidity readings\n",
        "                humidities = [\n",
        "                    int(hour.humidity)\n",
        "                    for hour in forecast.hourly\n",
        "                    if hasattr(hour, \"humidity\") and hour.humidity is not None\n",
        "                ]\n",
        "                avg_humidity = sum(humidities) / len(humidities) if humidities else 0\n",
        "                return f\"The humidity {time_period} in {location} is around {int(avg_humidity)}%.\"\n",
        "            except:\n",
        "                return f\"I couldn't interpret the humidity data for {location}.\"\n",
        "\n",
        "    # 🍃 Wind logic\n",
        "    elif attribute == \"wind\":\n",
        "        if hasattr(forecast, \"hourly\") and forecast.hourly:\n",
        "            hour = forecast.hourly[0]  # Use the first hourly reading as reference\n",
        "            speed = hour.windspeedKmph if hasattr(hour, \"windspeedKmph\") else \"unknown\"\n",
        "            direction = hour.winddir16Point if hasattr(hour, \"winddir16Point\") else \"unknown\"\n",
        "            return f\"The wind {time_period} in {location} is expected to be {speed} km/h from the {direction}.\"\n",
        "\n",
        "    # 🧩 General fallback if no specific attribute matched\n",
        "    return f\"The weather {time_period} in {location} looks fine, but I couldn't identify a specific attribute to check.\"\n"
      ],
      "metadata": {
        "id": "PpKYzNGHTGDt"
      },
      "execution_count": 15,
      "outputs": []
    },
    {
      "cell_type": "code",
      "source": [
        "# ✅ Test 1 – Natural Language Query for Rain in Melbourne\n",
        "\n",
        "# 🧪 Input question from the user\n",
        "q = \"Will it rain tomorrow in Melbourne?\"\n",
        "\n",
        "# 🔍 Parse the natural language question into structured info\n",
        "parsed = parse_weather_question(q)\n",
        "\n",
        "# 🌦️ Retrieve real weather data for Melbourne (3-day forecast)\n",
        "data = get_weather_data(\"Melbourne\", forecast_days=3, use_mock=False)\n",
        "\n",
        "# 💬 Generate an AI-style response to the parsed question using weather data\n",
        "response = generate_weather_response(parsed, data)\n",
        "\n",
        "# 🖨️ Print the generated response\n",
        "print(response)\n"
      ],
      "metadata": {
        "colab": {
          "base_uri": "https://localhost:8080/"
        },
        "id": "PVIvIF_lUdG0",
        "outputId": "c9e797fc-df11-4e1f-b361-e577715094ff"
      },
      "execution_count": null,
      "outputs": [
        {
          "output_type": "stream",
          "name": "stdout",
          "text": [
            "The chance of rain tomorrow in Melbourne is around 8%.\n"
          ]
        }
      ]
    },
    {
      "cell_type": "code",
      "source": [
        "# ✅ Test 2 – Natural Language Query for Temperature in Perth\n",
        "\n",
        "# 🧪 User input: asking for today's temperature in Perth\n",
        "q = \"What's the temperature today in Perth?\"\n",
        "\n",
        "# 🧠 Parse the question into structured components (location, time, attribute)\n",
        "parsed = parse_weather_question(q)\n",
        "print(\"🧠 Parsed Question:\", parsed)  # 👁️ Inspect the parsed result for debugging\n",
        "\n",
        "# 🌦️ Get real weather data for Perth (3-day forecast, not using mock mode)\n",
        "data = get_weather_data(\"Perth\", forecast_days=3, use_mock=False)\n",
        "\n",
        "# 💬 Generate a natural language response using parsed input and weather data\n",
        "response = generate_weather_response(parsed, data)\n",
        "\n",
        "# 🖨️ Print the AI-style weather response\n",
        "print(\"🤖 Response:\", response)\n"
      ],
      "metadata": {
        "colab": {
          "base_uri": "https://localhost:8080/"
        },
        "id": "E2QixQESXFuF",
        "outputId": "64505bfe-46b4-46c6-9428-1a33af3420ad"
      },
      "execution_count": null,
      "outputs": [
        {
          "output_type": "stream",
          "name": "stdout",
          "text": [
            "🧠 Parsed Question: {'location': 'perth', 'time_period': 'today', 'attribute': 'temperature'}\n",
            "🤖 Response: The max temperature today in Perth is expected to be 21°C, and the minimum is 15°C.\n"
          ]
        }
      ]
    },
    {
      "cell_type": "code",
      "source": [
        "# ✅ Test 3 – Natural Language Query for Wind in Perth (Tomorrow)\n",
        "\n",
        "# 💬 User's question about wind forecast\n",
        "q = \"Is it windy tomorrow in Perth?\"\n",
        "\n",
        "# 🧠 Parse the question into structured form (extract attribute, time, location)\n",
        "parsed = parse_weather_question(q)\n",
        "\n",
        "# 🌦️ Retrieve 3-day real weather data for Perth (no mock mode)\n",
        "data = get_weather_data(\"Perth\", forecast_days=3, use_mock=False)\n",
        "\n",
        "# 🤖 Generate a natural language weather response using the parsed question and data\n",
        "response = generate_weather_response(parsed, data)\n",
        "\n",
        "# 🖨️ Output the AI-style response for wind conditions\n",
        "print(response)\n"
      ],
      "metadata": {
        "colab": {
          "base_uri": "https://localhost:8080/"
        },
        "id": "lD1cctG_dfWJ",
        "outputId": "1e6fdfa1-5ee3-4ec3-833f-519b5ed325a7"
      },
      "execution_count": null,
      "outputs": [
        {
          "output_type": "stream",
          "name": "stdout",
          "text": [
            "The wind tomorrow in Perth is expected to be 24 km/h from the S.\n"
          ]
        }
      ]
    },
    {
      "cell_type": "code",
      "source": [
        "# ✅ Test 4 – Natural Language Query for Humidity in Darwin (Today)\n",
        "\n",
        "# 💬 User's question about humidity forecast\n",
        "q = \"Will it be humid today in Darwin?\"\n",
        "\n",
        "# 🧠 Parse the question into structured data (extracts location, time, attribute)\n",
        "parsed = parse_weather_question(q)\n",
        "\n",
        "# 🌦️ Retrieve 3-day real weather data for Darwin (mock=False to fetch live data)\n",
        "data = get_weather_data(\"Darwin\", forecast_days=3, use_mock=False)\n",
        "\n",
        "# 🤖 Generate a human-readable weather response using parsed inputs and data\n",
        "response = generate_weather_response(parsed, data)\n",
        "\n",
        "# 🖨️ Output the result for humidity conditions\n",
        "print(response)\n"
      ],
      "metadata": {
        "colab": {
          "base_uri": "https://localhost:8080/"
        },
        "id": "MaL1xUuIdko_",
        "outputId": "b4808529-3d18-41f0-a286-91dc27d0f8a0"
      },
      "execution_count": null,
      "outputs": [
        {
          "output_type": "stream",
          "name": "stdout",
          "text": [
            "The humidity today in Darwin is around 50%.\n"
          ]
        }
      ]
    },
    {
      "cell_type": "markdown",
      "source": [
        "## 🧭 User Interface and Menu System\n",
        "\n",
        "This section implements a console-based menu using `pyinputplus`, allowing users to interact with the WeatherWise app.\n",
        "\n",
        "- Users can view weather data, generate charts, or ask questions\n",
        "- Input is validated using `pyinputplus` to prevent invalid selections\n",
        "- The menu calls each of the core functions and loops until the user exits\n"
      ],
      "metadata": {
        "id": "yacHG6myX7XS"
      }
    },
    {
      "cell_type": "code",
      "source": [
        "def show_menu():\n",
        "    \"\"\"\n",
        "    Display the main WeatherWise menu and handle user selections.\n",
        "\n",
        "    Returns:\n",
        "        str: The user's chosen menu option as a string ('1' through '6')\n",
        "    \"\"\"\n",
        "    # 🌟 Print the menu header\n",
        "    print(\"\\n🌦️ Welcome to WeatherWise 🌦️\")\n",
        "    print(\"Please choose an option:\")\n",
        "\n",
        "    # 🧭 List the available actions the user can perform\n",
        "    print(\"1. Show weather forecast\")\n",
        "    print(\"2. Show temperature chart\")\n",
        "    print(\"3. Show precipitation chart\")\n",
        "    print(\"4. Ask a weather question\")\n",
        "    print(\"5. Show current moon phase\")\n",
        "    print(\"6. Exit\")  # ✅ Exit is listed last as expected\n",
        "\n",
        "    # 🛡️ Get validated input from the user (only allows '1' through '6')\n",
        "    # numbered=False means the user must type one of the exact choices\n",
        "    choice = pyip.inputMenu(['1', '2', '3', '4', '5', '6'], numbered=False)\n",
        "\n",
        "    # 🎯 Return the selected option for handling by main loop\n",
        "    return choice\n"
      ],
      "metadata": {
        "id": "Z18UFieuX8hN"
      },
      "execution_count": 16,
      "outputs": []
    },
    {
      "cell_type": "markdown",
      "source": [
        "# 🧩 Main Application Logic\n",
        "\n",
        "This section ties together all functionality into the interactive WeatherWise experience.\n",
        "\n",
        "- Displays the user menu\n",
        "- Routes choices to corresponding weather functions\n",
        "- Handles input/output, errors, and retry logic\n",
        "- Allows both visualisation and natural language queries\n",
        "\n",
        "The `main()` function runs a loop that:\n",
        "1. Prompts the user with a menu\n",
        "2. Processes their selection\n",
        "3. Fetches and displays relevant weather data\n",
        "4. Returns to the menu until the user exits\n"
      ],
      "metadata": {
        "id": "rojAWN101Z81"
      }
    },
    {
      "cell_type": "code",
      "source": [
        "def main():\n",
        "    \"\"\"\n",
        "    Main loop for the WeatherWise application.\n",
        "    \"\"\"\n",
        "    while True:\n",
        "        choice = show_menu()  # Show the menu and get user choice\n",
        "\n",
        "        if choice == '1':\n",
        "            # 🌦️ Show weather forecast\n",
        "            city = pyip.inputStr(\"Enter a location: \")\n",
        "            data = get_validated_weather_data(city, forecast_days=3, use_mock=False)\n",
        "\n",
        "            if data:\n",
        "                current = data.current_condition[0]\n",
        "                print(current.weatherDesc[0].value)\n",
        "                print(f\"Temp: {current.temp_C}°C\")\n",
        "                print(f\"Humidity: {current.humidity}%\")\n",
        "            else:\n",
        "                print(\"⚠️ Failed to retrieve forecast data.\")\n",
        "            input(\"\\n⏎ Press Enter to return to the menu...\")\n",
        "\n",
        "        elif choice == '2':\n",
        "            # 📈 Show temperature chart\n",
        "            city = pyip.inputStr(\"Enter a location: \")\n",
        "            data = get_validated_weather_data(city, forecast_days=3, use_mock=False)\n",
        "\n",
        "            if data:\n",
        "                create_temperature_visualisation(data)\n",
        "            else:\n",
        "                print(\"⚠️ Failed to retrieve weather data.\")\n",
        "            input(\"\\n📸 Press Enter to return to the menu...\")\n",
        "\n",
        "        elif choice == '3':\n",
        "            # 🌧️ Show precipitation chart\n",
        "            city = pyip.inputStr(\"Enter a location: \")\n",
        "            data = get_validated_weather_data(city, forecast_days=3, use_mock=False)\n",
        "\n",
        "            if data:\n",
        "                create_precipitation_visualisation(data)\n",
        "            else:\n",
        "                print(\"⚠️ Failed to retrieve weather data.\")\n",
        "            input(\"\\n📸 Press Enter to return to the menu...\")\n",
        "\n",
        "        elif choice == '4':\n",
        "            # 🗣️ Ask a weather question (NLP)\n",
        "            question = pyip.inputStr(\"Ask your weather question: \")\n",
        "            parsed = parse_weather_question(question)\n",
        "            location = parsed.get(\"location\", \"your location\") or \"your location\"\n",
        "\n",
        "            data = get_validated_weather_data(location, forecast_days=3, use_mock=False)\n",
        "\n",
        "            if data:\n",
        "                print(generate_weather_response(parsed, data))\n",
        "            else:\n",
        "                print(\"⚠️ Could not retrieve data to answer the question.\")\n",
        "            input(\"\\n⏎ Press Enter to return to the menu...\")\n",
        "\n",
        "        elif choice == '5':\n",
        "            # 🌙 Show moon phase\n",
        "            city = pyip.inputStr(\"Enter a location: \")\n",
        "            show_moon_phase(city)\n",
        "            input(\"\\n⏎ Press Enter to return to the menu...\")\n",
        "\n",
        "        elif choice == '6':\n",
        "            # 🚪 Exit\n",
        "            print(\"👋 Exiting WeatherWise. Stay dry!\")\n",
        "            break\n"
      ],
      "metadata": {
        "id": "4VkvxQdAZKSC"
      },
      "execution_count": 17,
      "outputs": []
    },
    {
      "cell_type": "code",
      "source": [
        "# 🧪 TEST: Run the main WeatherWise application loop\n",
        "# This will display the menu and handle user interactions\n",
        "main()"
      ],
      "metadata": {
        "colab": {
          "base_uri": "https://localhost:8080/",
          "height": 1000
        },
        "collapsed": true,
        "id": "pcMmqjzUZQRM",
        "outputId": "839d425d-0bd0-490b-9b0b-f129a57b4c43"
      },
      "execution_count": null,
      "outputs": [
        {
          "name": "stdout",
          "output_type": "stream",
          "text": [
            "\n",
            "🌦️ Welcome to WeatherWise 🌦️\n",
            "Please choose an option:\n",
            "1. Show weather forecast\n",
            "2. Show temperature chart\n",
            "3. Show precipitation chart\n",
            "4. Ask a weather question\n",
            "5. Show current moon phase\n",
            "6. Exit\n",
            "Please select one of the following:\n",
            "* 1\n",
            "* 2\n",
            "* 3\n",
            "* 4\n",
            "* 5\n",
            "* 6\n",
            "2\n",
            "Enter a location: perth\n"
          ]
        },
        {
          "output_type": "display_data",
          "data": {
            "text/plain": [
              "<Figure size 800x500 with 1 Axes>"
            ],
            "image/png": "[encoded data removed]"
          },
          "metadata": {}
        },
        {
          "output_type": "stream",
          "name": "stdout",
          "text": [
            "\n",
            "📸 Press Enter to return to the menu...\n",
            "\n",
            "🌦️ Welcome to WeatherWise 🌦️\n",
            "Please choose an option:\n",
            "1. Show weather forecast\n",
            "2. Show temperature chart\n",
            "3. Show precipitation chart\n",
            "4. Ask a weather question\n",
            "5. Show current moon phase\n",
            "6. Exit\n",
            "Please select one of the following:\n",
            "* 1\n",
            "* 2\n",
            "* 3\n",
            "* 4\n",
            "* 5\n",
            "* 6\n",
            "3\n",
            "Enter a location: her\n",
            "🧪 Debugging Daily Precipitation Data...\n",
            "\n",
            "📅 Date: 2025-05-22\n",
            "✅ Parsed 8 values | Daily Avg: 0.0%\n",
            "\n",
            "📅 Date: 2025-05-23\n",
            "✅ Parsed 8 values | Daily Avg: 0.0%\n",
            "\n",
            "📅 Date: 2025-05-24\n",
            "✅ Parsed 8 values | Daily Avg: 0.0%\n",
            "\n"
          ]
        },
        {
          "output_type": "display_data",
          "data": {
            "text/plain": [
              "<Figure size 800x500 with 1 Axes>"
            ],
            "image/png": "[encoded data removed]"
          },
          "metadata": {}
        },
        {
          "output_type": "stream",
          "name": "stdout",
          "text": [
            "\n",
            "📸 Press Enter to return to the menu...\n",
            "\n",
            "🌦️ Welcome to WeatherWise 🌦️\n",
            "Please choose an option:\n",
            "1. Show weather forecast\n",
            "2. Show temperature chart\n",
            "3. Show precipitation chart\n",
            "4. Ask a weather question\n",
            "5. Show current moon phase\n",
            "6. Exit\n",
            "Please select one of the following:\n",
            "* 1\n",
            "* 2\n",
            "* 3\n",
            "* 4\n",
            "* 5\n",
            "* 6\n",
            "1\n",
            "Enter a location: here\n",
            "Patchy rain nearby\n",
            "Temp: 27°C\n",
            "Humidity: 84%\n",
            "\n",
            "⏎ Press Enter to return to the menu...\n",
            "\n",
            "🌦️ Welcome to WeatherWise 🌦️\n",
            "Please choose an option:\n",
            "1. Show weather forecast\n",
            "2. Show temperature chart\n",
            "3. Show precipitation chart\n",
            "4. Ask a weather question\n",
            "5. Show current moon phase\n",
            "6. Exit\n",
            "Please select one of the following:\n",
            "* 1\n",
            "* 2\n",
            "* 3\n",
            "* 4\n",
            "* 5\n",
            "* 6\n",
            "4\n",
            "Ask your weather question: will it rain tomorrow?\n",
            "The chance of rain tomorrow in your location is around 0%.\n",
            "\n",
            "⏎ Press Enter to return to the menu...6\n",
            "\n",
            "🌦️ Welcome to WeatherWise 🌦️\n",
            "Please choose an option:\n",
            "1. Show weather forecast\n",
            "2. Show temperature chart\n",
            "3. Show precipitation chart\n",
            "4. Ask a weather question\n",
            "5. Show current moon phase\n",
            "6. Exit\n",
            "Please select one of the following:\n",
            "* 1\n",
            "* 2\n",
            "* 3\n",
            "* 4\n",
            "* 5\n",
            "* 6\n",
            "5\n",
            "Enter a location: perth\n",
            "\n",
            "🌙 Fetching moon phase for perth...\n",
            "\u001b[38;5;118m \u001b[39m\u001b[38;5;118m \u001b[39m\u001b[38;5;118m \u001b[39m\u001b[38;5;118m \u001b[39m\u001b[38;5;154m \u001b[39m\u001b[38;5;154m \u001b[39m\u001b[38;5;154m \u001b[39m\u001b[38;5;154m \u001b[39m\u001b[38;5;154m \u001b[39m\u001b[38;5;154m \u001b[39m\u001b[38;5;154m \u001b[39m\u001b[38;5;154m \u001b[39m\u001b[38;5;154m \u001b[39m\u001b[38;5;154m \u001b[39m\u001b[38;5;148m \u001b[39m\u001b[38;5;184m \u001b[39m\u001b[38;5;184m \u001b[39m\u001b[38;5;184m.\u001b[39m\u001b[38;5;184m-\u001b[39m\u001b[38;5;184m-\u001b[39m\u001b[38;5;184m-\u001b[39m\u001b[38;5;184m-\u001b[39m\u001b[38;5;184m \u001b[39m\u001b[38;5;184m \u001b[39m\u001b[38;5;184m \u001b[39m\u001b[38;5;184m \u001b[39m\u001b[38;5;178m \u001b[39m\u001b[38;5;214m \u001b[39m\u001b[38;5;214m \u001b[39m\u001b[38;5;214m \u001b[39m\u001b[38;5;214m \u001b[39m\u001b[38;5;214m\u001b[39m\n",
            "\u001b[38;5;118m \u001b[39m\u001b[38;5;154m \u001b[39m\u001b[38;5;154m \u001b[39m\u001b[38;5;154m \u001b[39m\u001b[38;5;154m \u001b[39m\u001b[38;5;154m \u001b[39m\u001b[38;5;154m \u001b[39m\u001b[38;5;154m \u001b[39m\u001b[38;5;154m \u001b[39m\u001b[38;5;154m \u001b[39m\u001b[38;5;154m \u001b[39m\u001b[38;5;148m \u001b[39m\u001b[38;5;184m \u001b[39m\u001b[38;5;184m.\u001b[39m\u001b[38;5;184m-\u001b[39m\u001b[38;5;184m-\u001b[39m\u001b[38;5;184m'\u001b[39m\u001b[38;5;184m \u001b[39m\u001b[38;5;184m \u001b[39m\u001b[38;5;184mo\u001b[39m\u001b[38;5;184m \u001b[39m\u001b[38;5;184m \u001b[39m\u001b[38;5;184m \u001b[39m\u001b[38;5;178m \u001b[39m\u001b[38;5;214m \u001b[39m\u001b[38;5;214m \u001b[39m\u001b[38;5;214m \u001b[39m\u001b[38;5;214m \u001b[39m\u001b[38;5;214m \u001b[39m\u001b[38;5;214m\u001b[39m\n",
            "\u001b[38;5;154m \u001b[39m\u001b[38;5;154m \u001b[39m\u001b[38;5;154m \u001b[39m\u001b[38;5;154m \u001b[39m\u001b[38;5;154m \u001b[39m\u001b[38;5;154m \u001b[39m\u001b[38;5;154m \u001b[39m\u001b[38;5;154m \u001b[39m\u001b[38;5;148m \u001b[39m\u001b[38;5;184m \u001b[39m\u001b[38;5;184m.\u001b[39m\u001b[38;5;184m-\u001b[39m\u001b[38;5;184m'\u001b[39m\u001b[38;5;184m \u001b[39m\u001b[38;5;184m \u001b[39m\u001b[38;5;184m \u001b[39m\u001b[38;5;184m.\u001b[39m\u001b[38;5;184m \u001b[39m\u001b[38;5;184m \u001b[39m\u001b[38;5;184m \u001b[39m\u001b[38;5;178m \u001b[39m\u001b[38;5;214m \u001b[39m\u001b[38;5;214m \u001b[39m\u001b[38;5;214m \u001b[39m\u001b[38;5;214m \u001b[39m\u001b[38;5;214m \u001b[39m\u001b[38;5;214m \u001b[39m\u001b[38;5;214m \u001b[39m\u001b[38;5;214m\u001b[39m\n",
            "\u001b[38;5;154m \u001b[39m\u001b[38;5;154m \u001b[39m\u001b[38;5;154m \u001b[39m\u001b[38;5;154m \u001b[39m\u001b[38;5;154m \u001b[39m\u001b[38;5;148m \u001b[39m\u001b[38;5;184m \u001b[39m\u001b[38;5;184m.\u001b[39m\u001b[38;5;184m-\u001b[39m\u001b[38;5;184m'\u001b[39m\u001b[38;5;184m@\u001b[39m\u001b[38;5;184m \u001b[39m\u001b[38;5;184m \u001b[39m\u001b[38;5;184m \u001b[39m\u001b[38;5;184m@\u001b[39m\u001b[38;5;184m@\u001b[39m\u001b[38;5;184m@\u001b[39m\u001b[38;5;178m@\u001b[39m\u001b[38;5;214m \u001b[39m\u001b[38;5;214m \u001b[39m\u001b[38;5;214m \u001b[39m\u001b[38;5;214m \u001b[39m\u001b[38;5;214m \u001b[39m\u001b[38;5;214m \u001b[39m\u001b[38;5;214m \u001b[39m\u001b[38;5;214m \u001b[39m\u001b[38;5;214m \u001b[39m\u001b[38;5;208m\u001b[39m\n",
            "\u001b[38;5;154m \u001b[39m\u001b[38;5;154m \u001b[39m\u001b[38;5;148m \u001b[39m\u001b[38;5;184m \u001b[39m\u001b[38;5;184m \u001b[39m\u001b[38;5;184m \u001b[39m\u001b[38;5;184m/\u001b[39m\u001b[38;5;184m@\u001b[39m\u001b[38;5;184m@\u001b[39m\u001b[38;5;184m@\u001b[39m\u001b[38;5;184m \u001b[39m\u001b[38;5;184m \u001b[39m\u001b[38;5;184m@\u001b[39m\u001b[38;5;184m@\u001b[39m\u001b[38;5;178m@\u001b[39m\u001b[38;5;214m@\u001b[39m\u001b[38;5;214m@\u001b[39m\u001b[38;5;214m \u001b[39m\u001b[38;5;214m \u001b[39m\u001b[38;5;214m \u001b[39m\u001b[38;5;214m \u001b[39m\u001b[38;5;214m \u001b[39m\u001b[38;5;214m \u001b[39m\u001b[38;5;214m \u001b[39m\u001b[38;5;208m \u001b[39m\u001b[38;5;208m \u001b[39m\u001b[38;5;208m\u001b[39m\n",
            "\u001b[38;5;184m \u001b[39m\u001b[38;5;184m \u001b[39m\u001b[38;5;184m \u001b[39m\u001b[38;5;184m \u001b[39m\u001b[38;5;184m.\u001b[39m\u001b[38;5;184m/\u001b[39m\u001b[38;5;184m \u001b[39m\u001b[38;5;184m \u001b[39m\u001b[38;5;184m \u001b[39m\u001b[38;5;184m \u001b[39m\u001b[38;5;184mo\u001b[39m\u001b[38;5;178m \u001b[39m\u001b[38;5;214m@\u001b[39m\u001b[38;5;214m@\u001b[39m\u001b[38;5;214m@\u001b[39m\u001b[38;5;214m@\u001b[39m\u001b[38;5;214m@\u001b[39m\u001b[38;5;214m \u001b[39m\u001b[38;5;214m \u001b[39m\u001b[38;5;214m \u001b[39m\u001b[38;5;214m \u001b[39m\u001b[38;5;208m \u001b[39m\u001b[38;5;208m \u001b[39m\u001b[38;5;208m \u001b[39m\u001b[38;5;208m \u001b[39m\u001b[38;5;208m \u001b[39m\u001b[38;5;208m\u001b[39m\n",
            "\u001b[38;5;184m \u001b[39m\u001b[38;5;184m \u001b[39m\u001b[38;5;184m \u001b[39m\u001b[38;5;184m/\u001b[39m\u001b[38;5;184m@\u001b[39m\u001b[38;5;184m@\u001b[39m\u001b[38;5;184m \u001b[39m\u001b[38;5;184m \u001b[39m\u001b[38;5;178mo\u001b[39m\u001b[38;5;214m \u001b[39m\u001b[38;5;214m \u001b[39m\u001b[38;5;214m \u001b[39m\u001b[38;5;214m@\u001b[39m\u001b[38;5;214m@\u001b[39m\u001b[38;5;214m@\u001b[39m\u001b[38;5;214m@\u001b[39m\u001b[38;5;214m \u001b[39m\u001b[38;5;214m \u001b[39m\u001b[38;5;208m \u001b[39m\u001b[38;5;208m \u001b[39m\u001b[38;5;208m \u001b[39m\u001b[38;5;208m \u001b[39m\u001b[38;5;208m \u001b[39m\u001b[38;5;208m \u001b[39m\u001b[38;5;208m \u001b[39m\u001b[38;5;208m\u001b[39m\n",
            "\u001b[38;5;184m \u001b[39m\u001b[38;5;184m \u001b[39m\u001b[38;5;184m/\u001b[39m\u001b[38;5;184m@\u001b[39m\u001b[38;5;184m@\u001b[39m\u001b[38;5;178m@\u001b[39m\u001b[38;5;214m@\u001b[39m\u001b[38;5;214m \u001b[39m\u001b[38;5;214m \u001b[39m\u001b[38;5;214m \u001b[39m\u001b[38;5;214m.\u001b[39m\u001b[38;5;214m \u001b[39m\u001b[38;5;214m \u001b[39m\u001b[38;5;214m \u001b[39m\u001b[38;5;214m@\u001b[39m\u001b[38;5;208m@\u001b[39m\u001b[38;5;208m \u001b[39m\u001b[38;5;208m \u001b[39m\u001b[38;5;208m \u001b[39m\u001b[38;5;208m \u001b[39m\u001b[38;5;208m \u001b[39m\u001b[38;5;208m \u001b[39m\u001b[38;5;208m \u001b[39m\u001b[38;5;208m \u001b[39m\u001b[38;5;209m \u001b[39m\u001b[38;5;203m\u001b[39m\n",
            "\u001b[38;5;184m \u001b[39m\u001b[38;5;184m \u001b[39m\u001b[38;5;178m|\u001b[39m\u001b[38;5;214m@\u001b[39m\u001b[38;5;214m@\u001b[39m\u001b[38;5;214m@\u001b[39m\u001b[38;5;214m@\u001b[39m\u001b[38;5;214m@\u001b[39m\u001b[38;5;214m \u001b[39m\u001b[38;5;214m \u001b[39m\u001b[38;5;214m \u001b[39m\u001b[38;5;214m \u001b[39m\u001b[38;5;208m \u001b[39m\u001b[38;5;208m \u001b[39m\u001b[38;5;208m \u001b[39m\u001b[38;5;208m \u001b[39m\u001b[38;5;208m \u001b[39m\u001b[38;5;208m \u001b[39m\u001b[38;5;208m \u001b[39m\u001b[38;5;208m \u001b[39m\u001b[38;5;208m \u001b[39m\u001b[38;5;209m \u001b[39m\u001b[38;5;203m \u001b[39m\u001b[38;5;203m \u001b[39m\u001b[38;5;203m\u001b[39m\n",
            "\u001b[38;5;214m \u001b[39m\u001b[38;5;214m/\u001b[39m\u001b[38;5;214m@\u001b[39m\u001b[38;5;214m@\u001b[39m\u001b[38;5;214m@\u001b[39m\u001b[38;5;214m@\u001b[39m\u001b[38;5;214m@\u001b[39m\u001b[38;5;214m \u001b[39m\u001b[38;5;214m \u001b[39m\u001b[38;5;208mO\u001b[39m\u001b[38;5;208m \u001b[39m\u001b[38;5;208m \u001b[39m\u001b[38;5;208m`\u001b[39m\u001b[38;5;208m.\u001b[39m\u001b[38;5;208m-\u001b[39m\u001b[38;5;208m \u001b[39m\u001b[38;5;208m \u001b[39m\u001b[38;5;208m \u001b[39m\u001b[38;5;209m \u001b[39m\u001b[38;5;203m \u001b[39m\u001b[38;5;203m \u001b[39m\u001b[38;5;203m \u001b[39m\u001b[38;5;203m \u001b[39m\u001b[38;5;203m \u001b[39m\u001b[38;5;203mL\u001b[39m\u001b[38;5;203ma\u001b[39m\u001b[38;5;203ms\u001b[39m\u001b[38;5;203mt\u001b[39m\u001b[38;5;203m \u001b[39m\u001b[38;5;203mQ\u001b[39m\u001b[38;5;204mu\u001b[39m\u001b[38;5;198ma\u001b[39m\u001b[38;5;198mr\u001b[39m\u001b[38;5;198mt\u001b[39m\u001b[38;5;198me\u001b[39m\u001b[38;5;198mr\u001b[39m\u001b[38;5;198m \u001b[39m\u001b[38;5;198m+\u001b[39m\u001b[38;5;198m\u001b[39m\n",
            "\u001b[38;5;214m \u001b[39m\u001b[38;5;214m|\u001b[39m\u001b[38;5;214m \u001b[39m\u001b[38;5;214m@\u001b[39m\u001b[38;5;214m@\u001b[39m\u001b[38;5;214m@\u001b[39m\u001b[38;5;208m@\u001b[39m\u001b[38;5;208m \u001b[39m\u001b[38;5;208m \u001b[39m\u001b[38;5;208m \u001b[39m\u001b[38;5;208m \u001b[39m\u001b[38;5;208m-\u001b[39m\u001b[38;5;208m-\u001b[39m\u001b[38;5;208m`\u001b[39m\u001b[38;5;208m-\u001b[39m\u001b[38;5;209m \u001b[39m\u001b[38;5;203m \u001b[39m\u001b[38;5;203m \u001b[39m\u001b[38;5;203m \u001b[39m\u001b[38;5;203m \u001b[39m\u001b[38;5;203m \u001b[39m\u001b[38;5;203m \u001b[39m\u001b[38;5;203m \u001b[39m\u001b[38;5;203m \u001b[39m\u001b[38;5;203m1\u001b[39m\u001b[38;5;203m \u001b[39m\u001b[38;5;203m2\u001b[39m\u001b[38;5;204m3\u001b[39m\u001b[38;5;198m:\u001b[39m\u001b[38;5;198m3\u001b[39m\u001b[38;5;198m2\u001b[39m\u001b[38;5;198m:\u001b[39m\u001b[38;5;198m1\u001b[39m\u001b[38;5;198m2\u001b[39m\u001b[38;5;198m\u001b[39m\n",
            "\u001b[38;5;214m \u001b[39m\u001b[38;5;214m|\u001b[39m\u001b[38;5;214m@\u001b[39m\u001b[38;5;208m \u001b[39m\u001b[38;5;208m@\u001b[39m\u001b[38;5;208m@\u001b[39m\u001b[38;5;208m@\u001b[39m\u001b[38;5;208m \u001b[39m\u001b[38;5;208m \u001b[39m\u001b[38;5;208m \u001b[39m\u001b[38;5;208m \u001b[39m\u001b[38;5;208m \u001b[39m\u001b[38;5;209m \u001b[39m\u001b[38;5;203m \u001b[39m\u001b[38;5;203m \u001b[39m\u001b[38;5;203m \u001b[39m\u001b[38;5;203m \u001b[39m\u001b[38;5;203m \u001b[39m\u001b[38;5;203m \u001b[39m\u001b[38;5;203m \u001b[39m\u001b[38;5;203m \u001b[39m\u001b[38;5;203m \u001b[39m\u001b[38;5;203m \u001b[39m\u001b[38;5;203m \u001b[39m\u001b[38;5;204mN\u001b[39m\u001b[38;5;198me\u001b[39m\u001b[38;5;198mw\u001b[39m\u001b[38;5;198m \u001b[39m\u001b[38;5;198mM\u001b[39m\u001b[38;5;198mo\u001b[39m\u001b[38;5;198mo\u001b[39m\u001b[38;5;198mn\u001b[39m\u001b[38;5;198m \u001b[39m\u001b[38;5;198m-\u001b[39m\u001b[38;5;199m\u001b[39m\n",
            "\u001b[38;5;208m \u001b[39m\u001b[38;5;208m|\u001b[39m\u001b[38;5;208m \u001b[39m\u001b[38;5;208m \u001b[39m\u001b[38;5;208m \u001b[39m\u001b[38;5;208m \u001b[39m\u001b[38;5;208m \u001b[39m\u001b[38;5;208m \u001b[39m\u001b[38;5;208m \u001b[39m\u001b[38;5;209m@\u001b[39m\u001b[38;5;203m@\u001b[39m\u001b[38;5;203m \u001b[39m\u001b[38;5;203m \u001b[39m\u001b[38;5;203m@\u001b[39m\u001b[38;5;203m \u001b[39m\u001b[38;5;203m \u001b[39m\u001b[38;5;203m \u001b[39m\u001b[38;5;203m \u001b[39m\u001b[38;5;203m \u001b[39m\u001b[38;5;203m \u001b[39m\u001b[38;5;203m \u001b[39m\u001b[38;5;204m \u001b[39m\u001b[38;5;198m \u001b[39m\u001b[38;5;198m \u001b[39m\u001b[38;5;198m4\u001b[39m\u001b[38;5;198m \u001b[39m\u001b[38;5;198m1\u001b[39m\u001b[38;5;198m5\u001b[39m\u001b[38;5;198m:\u001b[39m\u001b[38;5;198m3\u001b[39m\u001b[38;5;198m1\u001b[39m\u001b[38;5;199m:\u001b[39m\u001b[38;5;199m4\u001b[39m\u001b[38;5;199m2\u001b[39m\u001b[38;5;199m\u001b[39m\n",
            "\u001b[38;5;208m \u001b[39m\u001b[38;5;208m\\\u001b[39m\u001b[38;5;208m \u001b[39m\u001b[38;5;208m \u001b[39m\u001b[38;5;208m.\u001b[39m\u001b[38;5;208m \u001b[39m\u001b[38;5;209m@\u001b[39m\u001b[38;5;203m \u001b[39m\u001b[38;5;203m \u001b[39m\u001b[38;5;203m \u001b[39m\u001b[38;5;203m \u001b[39m\u001b[38;5;203m \u001b[39m\u001b[38;5;203m \u001b[39m\u001b[38;5;203m \u001b[39m\u001b[38;5;203m \u001b[39m\u001b[38;5;203m \u001b[39m\u001b[38;5;203m \u001b[39m\u001b[38;5;203m \u001b[39m\u001b[38;5;204m \u001b[39m\u001b[38;5;198m \u001b[39m\u001b[38;5;198m \u001b[39m\u001b[38;5;198m \u001b[39m\u001b[38;5;198m \u001b[39m\u001b[38;5;198m \u001b[39m\u001b[38;5;198m\u001b[39m\n",
            "\u001b[38;5;208m \u001b[39m\u001b[38;5;208m \u001b[39m\u001b[38;5;208m|\u001b[39m\u001b[38;5;209m \u001b[39m\u001b[38;5;203m \u001b[39m\u001b[38;5;203m \u001b[39m\u001b[38;5;203m \u001b[39m\u001b[38;5;203m \u001b[39m\u001b[38;5;203m \u001b[39m\u001b[38;5;203m@\u001b[39m\u001b[38;5;203m@\u001b[39m\u001b[38;5;203m \u001b[39m\u001b[38;5;203m \u001b[39m\u001b[38;5;203m \u001b[39m\u001b[38;5;203m@\u001b[39m\u001b[38;5;204m \u001b[39m\u001b[38;5;198m \u001b[39m\u001b[38;5;198m \u001b[39m\u001b[38;5;198m \u001b[39m\u001b[38;5;198m \u001b[39m\u001b[38;5;198m \u001b[39m\u001b[38;5;198m \u001b[39m\u001b[38;5;198m \u001b[39m\u001b[38;5;198m \u001b[39m\u001b[38;5;198m\u001b[39m\n",
            "\u001b[38;5;209m \u001b[39m\u001b[38;5;203m \u001b[39m\u001b[38;5;203m\\\u001b[39m\u001b[38;5;203m \u001b[39m\u001b[38;5;203m \u001b[39m\u001b[38;5;203m \u001b[39m\u001b[38;5;203m \u001b[39m\u001b[38;5;203m \u001b[39m\u001b[38;5;203m@\u001b[39m\u001b[38;5;203m@\u001b[39m\u001b[38;5;203m@\u001b[39m\u001b[38;5;203m@\u001b[39m\u001b[38;5;204m \u001b[39m\u001b[38;5;198m \u001b[39m\u001b[38;5;198m@\u001b[39m\u001b[38;5;198m\\\u001b[39m\u001b[38;5;198m \u001b[39m\u001b[38;5;198m \u001b[39m\u001b[38;5;198m \u001b[39m\u001b[38;5;198m \u001b[39m\u001b[38;5;198m \u001b[39m\u001b[38;5;198m \u001b[39m\u001b[38;5;199m \u001b[39m\u001b[38;5;199m \u001b[39m\u001b[38;5;199m \u001b[39m\u001b[38;5;199m\u001b[39m\n",
            "\u001b[38;5;203m \u001b[39m\u001b[38;5;203m \u001b[39m\u001b[38;5;203m \u001b[39m\u001b[38;5;203m\\\u001b[39m\u001b[38;5;203m \u001b[39m\u001b[38;5;203m \u001b[39m\u001b[38;5;203mo\u001b[39m\u001b[38;5;203m \u001b[39m\u001b[38;5;203m \u001b[39m\u001b[38;5;204m@\u001b[39m\u001b[38;5;198m@\u001b[39m\u001b[38;5;198m \u001b[39m\u001b[38;5;198m \u001b[39m\u001b[38;5;198m \u001b[39m\u001b[38;5;198m \u001b[39m\u001b[38;5;198m \u001b[39m\u001b[38;5;198m \u001b[39m\u001b[38;5;198m \u001b[39m\u001b[38;5;198m \u001b[39m\u001b[38;5;199m \u001b[39m\u001b[38;5;199m \u001b[39m\u001b[38;5;199m \u001b[39m\u001b[38;5;199m \u001b[39m\u001b[38;5;199m \u001b[39m\u001b[38;5;199m \u001b[39m\u001b[38;5;199m\u001b[39m\n",
            "\u001b[38;5;203m \u001b[39m\u001b[38;5;203m \u001b[39m\u001b[38;5;203m \u001b[39m\u001b[38;5;203m \u001b[39m\u001b[38;5;203m`\u001b[39m\u001b[38;5;203m\\\u001b[39m\u001b[38;5;204m \u001b[39m\u001b[38;5;198m \u001b[39m\u001b[38;5;198m \u001b[39m\u001b[38;5;198m \u001b[39m\u001b[38;5;198m \u001b[39m\u001b[38;5;198m.\u001b[39m\u001b[38;5;198m \u001b[39m\u001b[38;5;198m \u001b[39m\u001b[38;5;198m \u001b[39m\u001b[38;5;198m \u001b[39m\u001b[38;5;199m.\u001b[39m\u001b[38;5;199m \u001b[39m\u001b[38;5;199m \u001b[39m\u001b[38;5;199m \u001b[39m\u001b[38;5;199m \u001b[39m\u001b[38;5;199m \u001b[39m\u001b[38;5;199m \u001b[39m\u001b[38;5;199m \u001b[39m\u001b[38;5;199m \u001b[39m\u001b[38;5;163m \u001b[39m\u001b[38;5;163m\u001b[39m\n",
            "\u001b[38;5;203m \u001b[39m\u001b[38;5;203m \u001b[39m\u001b[38;5;203m \u001b[39m\u001b[38;5;204m \u001b[39m\u001b[38;5;198m \u001b[39m\u001b[38;5;198m \u001b[39m\u001b[38;5;198m\\\u001b[39m\u001b[38;5;198m \u001b[39m\u001b[38;5;198m \u001b[39m\u001b[38;5;198m \u001b[39m\u001b[38;5;198m \u001b[39m\u001b[38;5;198m \u001b[39m\u001b[38;5;198m \u001b[39m\u001b[38;5;199m \u001b[39m\u001b[38;5;199m \u001b[39m\u001b[38;5;199m \u001b[39m\u001b[38;5;199m \u001b[39m\u001b[38;5;199m \u001b[39m\u001b[38;5;199m \u001b[39m\u001b[38;5;199m \u001b[39m\u001b[38;5;199m \u001b[39m\u001b[38;5;199m \u001b[39m\u001b[38;5;163m \u001b[39m\u001b[38;5;163m \u001b[39m\u001b[38;5;164m \u001b[39m\u001b[38;5;164m \u001b[39m\u001b[38;5;164m\u001b[39m\n",
            "\u001b[38;5;204m \u001b[39m\u001b[38;5;198m \u001b[39m\u001b[38;5;198m \u001b[39m\u001b[38;5;198m \u001b[39m\u001b[38;5;198m \u001b[39m\u001b[38;5;198m \u001b[39m\u001b[38;5;198m \u001b[39m\u001b[38;5;198m`\u001b[39m\u001b[38;5;198m-\u001b[39m\u001b[38;5;198m.\u001b[39m\u001b[38;5;199m \u001b[39m\u001b[38;5;199m \u001b[39m\u001b[38;5;199m \u001b[39m\u001b[38;5;199mo\u001b[39m\u001b[38;5;199m \u001b[39m\u001b[38;5;199m \u001b[39m\u001b[38;5;199m \u001b[39m\u001b[38;5;199m/\u001b[39m\u001b[38;5;199m \u001b[39m\u001b[38;5;163m \u001b[39m\u001b[38;5;163m \u001b[39m\u001b[38;5;164m \u001b[39m\u001b[38;5;164m \u001b[39m\u001b[38;5;164m \u001b[39m\u001b[38;5;164m \u001b[39m\u001b[38;5;164m \u001b[39m\u001b[38;5;164m \u001b[39m\u001b[38;5;164m\u001b[39m\n",
            "\u001b[38;5;198m \u001b[39m\u001b[38;5;198m \u001b[39m\u001b[38;5;198m \u001b[39m\u001b[38;5;198m \u001b[39m\u001b[38;5;198m \u001b[39m\u001b[38;5;198m \u001b[39m\u001b[38;5;198m \u001b[39m\u001b[38;5;199m \u001b[39m\u001b[38;5;199m \u001b[39m\u001b[38;5;199m \u001b[39m\u001b[38;5;199m`\u001b[39m\u001b[38;5;199m-\u001b[39m\u001b[38;5;199m.\u001b[39m\u001b[38;5;199m \u001b[39m\u001b[38;5;199m \u001b[39m\u001b[38;5;199m \u001b[39m\u001b[38;5;163m/\u001b[39m\u001b[38;5;163m \u001b[39m\u001b[38;5;164m \u001b[39m\u001b[38;5;164m \u001b[39m\u001b[38;5;164m \u001b[39m\u001b[38;5;164m \u001b[39m\u001b[38;5;164m \u001b[39m\u001b[38;5;164m \u001b[39m\u001b[38;5;164m \u001b[39m\u001b[38;5;164m \u001b[39m\u001b[38;5;164m \u001b[39m\u001b[38;5;164m \u001b[39m\u001b[38;5;128m\u001b[39m\n",
            "\u001b[38;5;198m \u001b[39m\u001b[38;5;198m \u001b[39m\u001b[38;5;198m \u001b[39m\u001b[38;5;198m \u001b[39m\u001b[38;5;199m \u001b[39m\u001b[38;5;199m \u001b[39m\u001b[38;5;199m \u001b[39m\u001b[38;5;199m \u001b[39m\u001b[38;5;199m \u001b[39m\u001b[38;5;199m \u001b[39m\u001b[38;5;199m \u001b[39m\u001b[38;5;199m \u001b[39m\u001b[38;5;199m \u001b[39m\u001b[38;5;163m`\u001b[39m\u001b[38;5;163m-\u001b[39m\u001b[38;5;164m-\u001b[39m\u001b[38;5;164m.\u001b[39m\u001b[38;5;164m \u001b[39m\u001b[38;5;164m \u001b[39m\u001b[38;5;164m \u001b[39m\u001b[38;5;164m \u001b[39m\u001b[38;5;164m \u001b[39m\u001b[38;5;164m \u001b[39m\u001b[38;5;164m \u001b[39m\u001b[38;5;164m \u001b[39m\u001b[38;5;128m \u001b[39m\u001b[38;5;128m \u001b[39m\u001b[38;5;129m \u001b[39m\u001b[38;5;129m \u001b[39m\u001b[38;5;129m\u001b[39m\n",
            "\u001b[38;5;198m \u001b[39m\u001b[38;5;199m \u001b[39m\u001b[38;5;199m \u001b[39m\u001b[38;5;199m \u001b[39m\u001b[38;5;199m \u001b[39m\u001b[38;5;199m \u001b[39m\u001b[38;5;199m \u001b[39m\u001b[38;5;199m \u001b[39m\u001b[38;5;199m \u001b[39m\u001b[38;5;199m \u001b[39m\u001b[38;5;163m \u001b[39m\u001b[38;5;163m \u001b[39m\u001b[38;5;164m \u001b[39m\u001b[38;5;164m \u001b[39m\u001b[38;5;164m \u001b[39m\u001b[38;5;164m \u001b[39m\u001b[38;5;164m \u001b[39m\u001b[38;5;164m`\u001b[39m\u001b[38;5;164m-\u001b[39m\u001b[38;5;164m-\u001b[39m\u001b[38;5;164m-\u001b[39m\u001b[38;5;164m-\u001b[39m\u001b[38;5;128m \u001b[39m\u001b[38;5;128m \u001b[39m\u001b[38;5;129m \u001b[39m\u001b[38;5;129m \u001b[39m\u001b[38;5;129m \u001b[39m\u001b[38;5;129m \u001b[39m\u001b[38;5;129m \u001b[39m\u001b[38;5;129m \u001b[39m\u001b[38;5;129m \u001b[39m\u001b[38;5;129m\u001b[39m\n",
            "\u001b[38;5;199m\u001b[39m\n",
            "\n",
            "Follow \u001b[46m\u001b[30m@igor_chubin\u001b[0m for wttr.in updates\n",
            "\n",
            "\n",
            "⏎ Press Enter to return to the menu...\n",
            "\n",
            "🌦️ Welcome to WeatherWise 🌦️\n",
            "Please choose an option:\n",
            "1. Show weather forecast\n",
            "2. Show temperature chart\n",
            "3. Show precipitation chart\n",
            "4. Ask a weather question\n",
            "5. Show current moon phase\n",
            "6. Exit\n",
            "Please select one of the following:\n",
            "* 1\n",
            "* 2\n",
            "* 3\n",
            "* 4\n",
            "* 5\n",
            "* 6\n",
            "6\n",
            "👋 Exiting WeatherWise. Stay dry!\n"
          ]
        }
      ]
    },
    {
      "cell_type": "markdown",
      "source": [
        "# ✅ Testing and Examples\n",
        "\n",
        "This section demonstrates that each key feature of WeatherWise is working correctly using both real and mock data.\n",
        "\n",
        "Each test shows:\n",
        "- The function being used\n",
        "- Sample inputs\n",
        "- Expected outputs or behavior\n",
        "- Optional edge case handling\n"
      ],
      "metadata": {
        "id": "3k1iEfcz19jd"
      }
    },
    {
      "cell_type": "markdown",
      "source": [
        "🧪 Test 1: Real Weather Retrieval\n",
        "**Input:** Perth  \n",
        "**Purpose:** Ensure weather data is fetched successfully for a known location using real data.\n"
      ],
      "metadata": {
        "id": "VdObxU-upNin"
      }
    },
    {
      "cell_type": "code",
      "source": [
        "# Test retrieving weather for a real city\n",
        "data = get_weather_data(\"Perth\", forecast_days=3, use_mock=False)\n",
        "if data:\n",
        "    current = data.current_condition[0]\n",
        "    print(f\"Condition: {current.weatherDesc[0].value}\")\n",
        "    print(f\"Temperature: {current.temp_C}°C\")\n",
        "    print(f\"Humidity: {current.humidity}%\")\n",
        "else:\n",
        "    print(\"❌ Failed to retrieve weather data.\")\n"
      ],
      "metadata": {
        "colab": {
          "base_uri": "https://localhost:8080/"
        },
        "id": "ig4e0Oc42ABT",
        "outputId": "3cfc9a00-3a44-4570-f353-5a444a62162d"
      },
      "execution_count": null,
      "outputs": [
        {
          "output_type": "stream",
          "name": "stdout",
          "text": [
            "Condition: Partly cloudy\n",
            "Temperature: 22°C\n",
            "Humidity: 57%\n"
          ]
        }
      ]
    },
    {
      "cell_type": "markdown",
      "source": [
        "🧪 Test 2: Temperature Chart (Mock Data)\n",
        "**Input:** Melbourne (mock mode)\n",
        "**Purpose:** Generate temperature chart for visualisation test."
      ],
      "metadata": {
        "id": "PzsMfFlvpT6Q"
      }
    },
    {
      "cell_type": "code",
      "source": [
        "# Temperature chart with mock data\n",
        "mock_data = get_weather_data(\"Melbourne\", forecast_days=3, use_mock=True)\n",
        "create_temperature_visualisation(mock_data)"
      ],
      "metadata": {
        "colab": {
          "base_uri": "https://localhost:8080/",
          "height": 464
        },
        "id": "Kxysh5rM2G00",
        "outputId": "f67f215c-4d6d-4de2-f5ec-c4e9a12fd6cb"
      },
      "execution_count": null,
      "outputs": [
        {
          "output_type": "stream",
          "name": "stdout",
          "text": [
            "⚠️ Using mock data — results may not reflect real weather conditions.\n"
          ]
        },
        {
          "output_type": "display_data",
          "data": {
            "text/plain": [
              "<Figure size 800x500 with 1 Axes>"
            ],
            "image/png": "[encoded data removed]"
          },
          "metadata": {}
        }
      ]
    },
    {
      "cell_type": "markdown",
      "source": [
        "🧪 Test 3: Precipitation Chart (Real Data)\n",
        "**Input:** Sydney\n",
        "**Purpose:** Display daily average rain chart using real data."
      ],
      "metadata": {
        "id": "FF4rHYNzpr7w"
      }
    },
    {
      "cell_type": "code",
      "source": [
        "# Precipitation chart with real data\n",
        "real_data = get_weather_data(\"Sydney\", forecast_days=3, use_mock=False)\n",
        "create_precipitation_visualisation(real_data)"
      ],
      "metadata": {
        "colab": {
          "base_uri": "https://localhost:8080/",
          "height": 633
        },
        "id": "7BP0he0U2M_h",
        "outputId": "28ce3978-8da0-48e0-b154-9c56a7f595fb"
      },
      "execution_count": null,
      "outputs": [
        {
          "output_type": "stream",
          "name": "stdout",
          "text": [
            "🧪 Debugging Daily Precipitation Data...\n",
            "\n",
            "📅 Date: 2025-05-22\n",
            "✅ Parsed 8 values | Daily Avg: 100.0%\n",
            "\n",
            "📅 Date: 2025-05-23\n",
            "✅ Parsed 8 values | Daily Avg: 32.5%\n",
            "\n",
            "📅 Date: 2025-05-24\n",
            "✅ Parsed 8 values | Daily Avg: 0.0%\n",
            "\n"
          ]
        },
        {
          "output_type": "display_data",
          "data": {
            "text/plain": [
              "<Figure size 800x500 with 1 Axes>"
            ],
            "image/png": "[encoded data removed]"
          },
          "metadata": {}
        }
      ]
    },
    {
      "cell_type": "markdown",
      "source": [
        "🧪 Test 4: NLP Query – Rain\n",
        "**Input:** \"Will it rain tomorrow in Brisbane?\"\n",
        "**Purpose:** Test if rain-related question is parsed and answered correctly."
      ],
      "metadata": {
        "id": "bErfM6O4p4aW"
      }
    },
    {
      "cell_type": "code",
      "source": [
        "# Rain query\n",
        "parsed = parse_weather_question(\"Will it rain tomorrow in Brisbane?\")\n",
        "data = get_weather_data(parsed['location'], forecast_days=3, use_mock=False)\n",
        "print(generate_weather_response(parsed, data))"
      ],
      "metadata": {
        "colab": {
          "base_uri": "https://localhost:8080/"
        },
        "id": "3PZoZf6a2P6j",
        "outputId": "71581968-0f25-409a-f7ac-87e79236e641"
      },
      "execution_count": null,
      "outputs": [
        {
          "output_type": "stream",
          "name": "stdout",
          "text": [
            "The chance of rain tomorrow in Brisbane is around 0%.\n"
          ]
        }
      ]
    },
    {
      "cell_type": "markdown",
      "source": [
        "🧪 Test 5: NLP Query – Humidity\n",
        "**Input:** \"Will it be humid in Darwin today?\"\n",
        "**Purpose:** Test humidity parsing and response accuracy."
      ],
      "metadata": {
        "id": "lkGEsl3xp-LC"
      }
    },
    {
      "cell_type": "code",
      "source": [
        "# Humidity query\n",
        "parsed = parse_weather_question(\"Will it be humid in Darwin today?\")\n",
        "data = get_weather_data(parsed['location'], forecast_days=3, use_mock=False)\n",
        "print(generate_weather_response(parsed, data))"
      ],
      "metadata": {
        "colab": {
          "base_uri": "https://localhost:8080/"
        },
        "id": "0t53Md0O2Scz",
        "outputId": "265c11d6-530c-48e3-9b1c-2440d75d77a3"
      },
      "execution_count": null,
      "outputs": [
        {
          "output_type": "stream",
          "name": "stdout",
          "text": [
            "The humidity today in Darwin is around 50%.\n"
          ]
        }
      ]
    },
    {
      "cell_type": "code",
      "source": [
        "🧪 Test 6: Edge Case – Invalid Location\n",
        "**Input:** \"asdfgh\" (nonsense city)\n",
        "**Purpose:** Validate error handling when location doesn’t exist."
      ],
      "metadata": {
        "id": "Aeepvj7zqGb-"
      },
      "execution_count": null,
      "outputs": []
    },
    {
      "cell_type": "code",
      "source": [
        "# 🔍 Edge Case Test: Invalid Location\n",
        "# Test how the system handles an invalid city name (nonexistent location)\n",
        "\n",
        "location = \"asdfgh\"  # Clearly invalid\n",
        "data = get_weather_data(location, forecast_days=3, use_mock=False)\n",
        "\n",
        "if data:\n",
        "    print(f\"❌ Unexpected: Weather data returned for invalid location '{location}'\")\n",
        "else:\n",
        "    print(f\"✅ Passed: Invalid location '{location}' was handled safely — no data returned.\")\n"
      ],
      "metadata": {
        "colab": {
          "base_uri": "https://localhost:8080/"
        },
        "id": "lGY-Z-VLnjd-",
        "outputId": "dd3ffc99-7aeb-44cd-f682-76302e36b46a"
      },
      "execution_count": 18,
      "outputs": [
        {
          "output_type": "stream",
          "name": "stdout",
          "text": [
            "❌ Error occurred: Error fetching data from wttr.in: Status code 404 for URL http://wttr.in/asdfgh?m2&format=j1\n",
            "Response body (start): Unknown location; please try ~not found\n",
            "✅ Passed: Invalid location 'asdfgh' was handled safely — no data returned.\n"
          ]
        }
      ]
    }
  ]
}